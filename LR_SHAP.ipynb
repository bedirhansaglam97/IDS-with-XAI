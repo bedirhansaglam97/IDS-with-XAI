{
 "cells": [
  {
   "cell_type": "markdown",
   "id": "b58f2e5c",
   "metadata": {},
   "source": [
    "Bilgisayar Projesi 1 - IDS\n",
    "\n",
    "ALL\n",
    "Decision Tree"
   ]
  },
  {
   "cell_type": "code",
   "execution_count": 1,
   "id": "83aac098",
   "metadata": {},
   "outputs": [
    {
     "ename": "ImportError",
     "evalue": "cannot import name 'plot_confusion_matrix' from 'sklearn.metrics' (C:\\Users\\jag\\anaconda3\\lib\\site-packages\\sklearn\\metrics\\__init__.py)",
     "output_type": "error",
     "traceback": [
      "\u001b[1;31m---------------------------------------------------------------------------\u001b[0m",
      "\u001b[1;31mImportError\u001b[0m                               Traceback (most recent call last)",
      "Cell \u001b[1;32mIn[1], line 12\u001b[0m\n\u001b[0;32m     10\u001b[0m \u001b[38;5;28;01mfrom\u001b[39;00m \u001b[38;5;21;01msklearn\u001b[39;00m \u001b[38;5;28;01mimport\u001b[39;00m preprocessing\n\u001b[0;32m     11\u001b[0m \u001b[38;5;28;01mfrom\u001b[39;00m \u001b[38;5;21;01msklearn\u001b[39;00m\u001b[38;5;21;01m.\u001b[39;00m\u001b[38;5;21;01mmetrics\u001b[39;00m \u001b[38;5;28;01mimport\u001b[39;00m confusion_matrix\n\u001b[1;32m---> 12\u001b[0m \u001b[38;5;28;01mfrom\u001b[39;00m \u001b[38;5;21;01msklearn\u001b[39;00m\u001b[38;5;21;01m.\u001b[39;00m\u001b[38;5;21;01mmetrics\u001b[39;00m \u001b[38;5;28;01mimport\u001b[39;00m plot_confusion_matrix\n\u001b[0;32m     13\u001b[0m \u001b[38;5;28;01mfrom\u001b[39;00m \u001b[38;5;21;01msklearn\u001b[39;00m\u001b[38;5;21;01m.\u001b[39;00m\u001b[38;5;21;01mmodel_selection\u001b[39;00m \u001b[38;5;28;01mimport\u001b[39;00m cross_val_score\n\u001b[0;32m     14\u001b[0m \u001b[38;5;28;01mfrom\u001b[39;00m \u001b[38;5;21;01msklearn\u001b[39;00m \u001b[38;5;28;01mimport\u001b[39;00m metrics\n",
      "\u001b[1;31mImportError\u001b[0m: cannot import name 'plot_confusion_matrix' from 'sklearn.metrics' (C:\\Users\\jag\\anaconda3\\lib\\site-packages\\sklearn\\metrics\\__init__.py)"
     ]
    }
   ],
   "source": [
    "import pandas as pd\n",
    "import numpy as np\n",
    "import matplotlib\n",
    "import matplotlib.pyplot as plt\n",
    "import seaborn as sns\n",
    "from time import time\n",
    "from sklearn.preprocessing import LabelEncoder,OneHotEncoder\n",
    "from sklearn.feature_selection import RFE\n",
    "from sklearn.tree import DecisionTreeClassifier\n",
    "from sklearn import preprocessing\n",
    "from sklearn.metrics import confusion_matrix\n",
    "from sklearn.metrics import plot_confusion_matrix\n",
    "from sklearn.model_selection import cross_val_score\n",
    "from sklearn import metrics"
   ]
  },
  {
   "cell_type": "code",
   "execution_count": 3,
   "id": "912149e4",
   "metadata": {},
   "outputs": [
    {
     "name": "stdout",
     "output_type": "stream",
     "text": [
      "Train set: (125973, 43)\n",
      "Test set: (22544, 43)\n"
     ]
    }
   ],
   "source": [
    "col_names = [\n",
    "    \"duration\",\n",
    "    \"protocol_type\",\n",
    "    \"service\",\n",
    "    \"flag\",\n",
    "    \"src_bytes\",\n",
    "    \"dst_bytes\",\n",
    "    \"land\",\n",
    "    \"wrong_fragment\",\n",
    "    \"urgent\",\n",
    "    \"hot\",\n",
    "    \"num_failed_logins\",\n",
    "    \"logged_in\",\n",
    "    \"num_compromised\",\n",
    "    \"root_shell\",\n",
    "    \"su_attempted\",\n",
    "    \"num_root\",\n",
    "    \"num_file_creations\",\n",
    "    \"num_shells\",\n",
    "    \"num_access_files\",\n",
    "    \"num_outbound_cmds\",\n",
    "    \"is_host_login\",\n",
    "    \"is_guest_login\",\n",
    "    \"count\",\n",
    "    \"srv_count\",\n",
    "    \"serror_rate\",\n",
    "    \"srv_serror_rate\",\n",
    "    \"rerror_rate\",\n",
    "    \"srv_rerror_rate\",\n",
    "    \"same_srv_rate\",\n",
    "    \"diff_srv_rate\",\n",
    "    \"srv_diff_host_rate\",\n",
    "    \"dst_host_count\",\n",
    "    \"dst_host_srv_count\",\n",
    "    \"dst_host_same_srv_rate\",\n",
    "    \"dst_host_diff_srv_rate\",\n",
    "    \"dst_host_same_src_port_rate\",\n",
    "    \"dst_host_srv_diff_host_rate\",\n",
    "    \"dst_host_serror_rate\",\n",
    "    \"dst_host_srv_serror_rate\",\n",
    "    \"dst_host_rerror_rate\",\n",
    "    \"dst_host_srv_rerror_rate\",\n",
    "    \"label\",\n",
    "    \"difficulty_level\",\n",
    "]\n",
    "\n",
    "# Read in the data with the defined column names\n",
    "df_train = pd.read_csv(\"KDDTrain+.txt\", header=None, names=col_names)\n",
    "df_test = pd.read_csv(\"KDDTest+.txt\", header=None, names=col_names)\n",
    "\n",
    "# Print the dimensions of the datasets\n",
    "print(\"Train set:\", df_train.shape)\n",
    "print(\"Test set:\", df_test.shape)"
   ]
  },
  {
   "cell_type": "code",
   "execution_count": 4,
   "id": "64a24cf5",
   "metadata": {},
   "outputs": [
    {
     "data": {
      "text/plain": [
       "Index(['duration', 'protocol_type', 'service', 'flag', 'src_bytes',\n",
       "       'dst_bytes', 'land', 'wrong_fragment', 'urgent', 'hot',\n",
       "       'num_failed_logins', 'logged_in', 'num_compromised', 'root_shell',\n",
       "       'su_attempted', 'num_root', 'num_file_creations', 'num_shells',\n",
       "       'num_access_files', 'num_outbound_cmds', 'is_host_login',\n",
       "       'is_guest_login', 'count', 'srv_count', 'serror_rate',\n",
       "       'srv_serror_rate', 'rerror_rate', 'srv_rerror_rate', 'same_srv_rate',\n",
       "       'diff_srv_rate', 'srv_diff_host_rate', 'dst_host_count',\n",
       "       'dst_host_srv_count', 'dst_host_same_srv_rate',\n",
       "       'dst_host_diff_srv_rate', 'dst_host_same_src_port_rate',\n",
       "       'dst_host_srv_diff_host_rate', 'dst_host_serror_rate',\n",
       "       'dst_host_srv_serror_rate', 'dst_host_rerror_rate',\n",
       "       'dst_host_srv_rerror_rate', 'label', 'difficulty_level'],\n",
       "      dtype='object')"
      ]
     },
     "execution_count": 4,
     "metadata": {},
     "output_type": "execute_result"
    }
   ],
   "source": [
    "df_train.columns"
   ]
  },
  {
   "cell_type": "code",
   "execution_count": 5,
   "id": "0901174f",
   "metadata": {
    "scrolled": true
   },
   "outputs": [
    {
     "data": {
      "text/plain": [
       "Index(['duration', 'protocol_type', 'service', 'flag', 'src_bytes',\n",
       "       'dst_bytes', 'land', 'wrong_fragment', 'urgent', 'hot',\n",
       "       'num_failed_logins', 'logged_in', 'num_compromised', 'root_shell',\n",
       "       'su_attempted', 'num_root', 'num_file_creations', 'num_shells',\n",
       "       'num_access_files', 'num_outbound_cmds', 'is_host_login',\n",
       "       'is_guest_login', 'count', 'srv_count', 'serror_rate',\n",
       "       'srv_serror_rate', 'rerror_rate', 'srv_rerror_rate', 'same_srv_rate',\n",
       "       'diff_srv_rate', 'srv_diff_host_rate', 'dst_host_count',\n",
       "       'dst_host_srv_count', 'dst_host_same_srv_rate',\n",
       "       'dst_host_diff_srv_rate', 'dst_host_same_src_port_rate',\n",
       "       'dst_host_srv_diff_host_rate', 'dst_host_serror_rate',\n",
       "       'dst_host_srv_serror_rate', 'dst_host_rerror_rate',\n",
       "       'dst_host_srv_rerror_rate', 'label', 'difficulty_level'],\n",
       "      dtype='object')"
      ]
     },
     "execution_count": 5,
     "metadata": {},
     "output_type": "execute_result"
    }
   ],
   "source": [
    "df_test.columns"
   ]
  },
  {
   "cell_type": "code",
   "execution_count": 6,
   "id": "f3e6ad4b",
   "metadata": {},
   "outputs": [
    {
     "data": {
      "text/html": [
       "<div>\n",
       "<style scoped>\n",
       "    .dataframe tbody tr th:only-of-type {\n",
       "        vertical-align: middle;\n",
       "    }\n",
       "\n",
       "    .dataframe tbody tr th {\n",
       "        vertical-align: top;\n",
       "    }\n",
       "\n",
       "    .dataframe thead th {\n",
       "        text-align: right;\n",
       "    }\n",
       "</style>\n",
       "<table border=\"1\" class=\"dataframe\">\n",
       "  <thead>\n",
       "    <tr style=\"text-align: right;\">\n",
       "      <th></th>\n",
       "      <th>duration</th>\n",
       "      <th>protocol_type</th>\n",
       "      <th>service</th>\n",
       "      <th>flag</th>\n",
       "      <th>src_bytes</th>\n",
       "      <th>dst_bytes</th>\n",
       "      <th>land</th>\n",
       "      <th>wrong_fragment</th>\n",
       "      <th>urgent</th>\n",
       "      <th>hot</th>\n",
       "      <th>...</th>\n",
       "      <th>dst_host_same_srv_rate</th>\n",
       "      <th>dst_host_diff_srv_rate</th>\n",
       "      <th>dst_host_same_src_port_rate</th>\n",
       "      <th>dst_host_srv_diff_host_rate</th>\n",
       "      <th>dst_host_serror_rate</th>\n",
       "      <th>dst_host_srv_serror_rate</th>\n",
       "      <th>dst_host_rerror_rate</th>\n",
       "      <th>dst_host_srv_rerror_rate</th>\n",
       "      <th>label</th>\n",
       "      <th>difficulty_level</th>\n",
       "    </tr>\n",
       "  </thead>\n",
       "  <tbody>\n",
       "    <tr>\n",
       "      <th>0</th>\n",
       "      <td>0</td>\n",
       "      <td>tcp</td>\n",
       "      <td>ftp_data</td>\n",
       "      <td>SF</td>\n",
       "      <td>491</td>\n",
       "      <td>0</td>\n",
       "      <td>0</td>\n",
       "      <td>0</td>\n",
       "      <td>0</td>\n",
       "      <td>0</td>\n",
       "      <td>...</td>\n",
       "      <td>0.17</td>\n",
       "      <td>0.03</td>\n",
       "      <td>0.17</td>\n",
       "      <td>0.00</td>\n",
       "      <td>0.00</td>\n",
       "      <td>0.00</td>\n",
       "      <td>0.05</td>\n",
       "      <td>0.00</td>\n",
       "      <td>normal</td>\n",
       "      <td>20</td>\n",
       "    </tr>\n",
       "    <tr>\n",
       "      <th>1</th>\n",
       "      <td>0</td>\n",
       "      <td>udp</td>\n",
       "      <td>other</td>\n",
       "      <td>SF</td>\n",
       "      <td>146</td>\n",
       "      <td>0</td>\n",
       "      <td>0</td>\n",
       "      <td>0</td>\n",
       "      <td>0</td>\n",
       "      <td>0</td>\n",
       "      <td>...</td>\n",
       "      <td>0.00</td>\n",
       "      <td>0.60</td>\n",
       "      <td>0.88</td>\n",
       "      <td>0.00</td>\n",
       "      <td>0.00</td>\n",
       "      <td>0.00</td>\n",
       "      <td>0.00</td>\n",
       "      <td>0.00</td>\n",
       "      <td>normal</td>\n",
       "      <td>15</td>\n",
       "    </tr>\n",
       "    <tr>\n",
       "      <th>2</th>\n",
       "      <td>0</td>\n",
       "      <td>tcp</td>\n",
       "      <td>private</td>\n",
       "      <td>S0</td>\n",
       "      <td>0</td>\n",
       "      <td>0</td>\n",
       "      <td>0</td>\n",
       "      <td>0</td>\n",
       "      <td>0</td>\n",
       "      <td>0</td>\n",
       "      <td>...</td>\n",
       "      <td>0.10</td>\n",
       "      <td>0.05</td>\n",
       "      <td>0.00</td>\n",
       "      <td>0.00</td>\n",
       "      <td>1.00</td>\n",
       "      <td>1.00</td>\n",
       "      <td>0.00</td>\n",
       "      <td>0.00</td>\n",
       "      <td>neptune</td>\n",
       "      <td>19</td>\n",
       "    </tr>\n",
       "    <tr>\n",
       "      <th>3</th>\n",
       "      <td>0</td>\n",
       "      <td>tcp</td>\n",
       "      <td>http</td>\n",
       "      <td>SF</td>\n",
       "      <td>232</td>\n",
       "      <td>8153</td>\n",
       "      <td>0</td>\n",
       "      <td>0</td>\n",
       "      <td>0</td>\n",
       "      <td>0</td>\n",
       "      <td>...</td>\n",
       "      <td>1.00</td>\n",
       "      <td>0.00</td>\n",
       "      <td>0.03</td>\n",
       "      <td>0.04</td>\n",
       "      <td>0.03</td>\n",
       "      <td>0.01</td>\n",
       "      <td>0.00</td>\n",
       "      <td>0.01</td>\n",
       "      <td>normal</td>\n",
       "      <td>21</td>\n",
       "    </tr>\n",
       "    <tr>\n",
       "      <th>4</th>\n",
       "      <td>0</td>\n",
       "      <td>tcp</td>\n",
       "      <td>http</td>\n",
       "      <td>SF</td>\n",
       "      <td>199</td>\n",
       "      <td>420</td>\n",
       "      <td>0</td>\n",
       "      <td>0</td>\n",
       "      <td>0</td>\n",
       "      <td>0</td>\n",
       "      <td>...</td>\n",
       "      <td>1.00</td>\n",
       "      <td>0.00</td>\n",
       "      <td>0.00</td>\n",
       "      <td>0.00</td>\n",
       "      <td>0.00</td>\n",
       "      <td>0.00</td>\n",
       "      <td>0.00</td>\n",
       "      <td>0.00</td>\n",
       "      <td>normal</td>\n",
       "      <td>21</td>\n",
       "    </tr>\n",
       "    <tr>\n",
       "      <th>5</th>\n",
       "      <td>0</td>\n",
       "      <td>tcp</td>\n",
       "      <td>private</td>\n",
       "      <td>REJ</td>\n",
       "      <td>0</td>\n",
       "      <td>0</td>\n",
       "      <td>0</td>\n",
       "      <td>0</td>\n",
       "      <td>0</td>\n",
       "      <td>0</td>\n",
       "      <td>...</td>\n",
       "      <td>0.07</td>\n",
       "      <td>0.07</td>\n",
       "      <td>0.00</td>\n",
       "      <td>0.00</td>\n",
       "      <td>0.00</td>\n",
       "      <td>0.00</td>\n",
       "      <td>1.00</td>\n",
       "      <td>1.00</td>\n",
       "      <td>neptune</td>\n",
       "      <td>21</td>\n",
       "    </tr>\n",
       "    <tr>\n",
       "      <th>6</th>\n",
       "      <td>0</td>\n",
       "      <td>tcp</td>\n",
       "      <td>private</td>\n",
       "      <td>S0</td>\n",
       "      <td>0</td>\n",
       "      <td>0</td>\n",
       "      <td>0</td>\n",
       "      <td>0</td>\n",
       "      <td>0</td>\n",
       "      <td>0</td>\n",
       "      <td>...</td>\n",
       "      <td>0.04</td>\n",
       "      <td>0.05</td>\n",
       "      <td>0.00</td>\n",
       "      <td>0.00</td>\n",
       "      <td>1.00</td>\n",
       "      <td>1.00</td>\n",
       "      <td>0.00</td>\n",
       "      <td>0.00</td>\n",
       "      <td>neptune</td>\n",
       "      <td>21</td>\n",
       "    </tr>\n",
       "    <tr>\n",
       "      <th>7</th>\n",
       "      <td>0</td>\n",
       "      <td>tcp</td>\n",
       "      <td>private</td>\n",
       "      <td>S0</td>\n",
       "      <td>0</td>\n",
       "      <td>0</td>\n",
       "      <td>0</td>\n",
       "      <td>0</td>\n",
       "      <td>0</td>\n",
       "      <td>0</td>\n",
       "      <td>...</td>\n",
       "      <td>0.06</td>\n",
       "      <td>0.07</td>\n",
       "      <td>0.00</td>\n",
       "      <td>0.00</td>\n",
       "      <td>1.00</td>\n",
       "      <td>1.00</td>\n",
       "      <td>0.00</td>\n",
       "      <td>0.00</td>\n",
       "      <td>neptune</td>\n",
       "      <td>21</td>\n",
       "    </tr>\n",
       "    <tr>\n",
       "      <th>8</th>\n",
       "      <td>0</td>\n",
       "      <td>tcp</td>\n",
       "      <td>remote_job</td>\n",
       "      <td>S0</td>\n",
       "      <td>0</td>\n",
       "      <td>0</td>\n",
       "      <td>0</td>\n",
       "      <td>0</td>\n",
       "      <td>0</td>\n",
       "      <td>0</td>\n",
       "      <td>...</td>\n",
       "      <td>0.09</td>\n",
       "      <td>0.05</td>\n",
       "      <td>0.00</td>\n",
       "      <td>0.00</td>\n",
       "      <td>1.00</td>\n",
       "      <td>1.00</td>\n",
       "      <td>0.00</td>\n",
       "      <td>0.00</td>\n",
       "      <td>neptune</td>\n",
       "      <td>21</td>\n",
       "    </tr>\n",
       "    <tr>\n",
       "      <th>9</th>\n",
       "      <td>0</td>\n",
       "      <td>tcp</td>\n",
       "      <td>private</td>\n",
       "      <td>S0</td>\n",
       "      <td>0</td>\n",
       "      <td>0</td>\n",
       "      <td>0</td>\n",
       "      <td>0</td>\n",
       "      <td>0</td>\n",
       "      <td>0</td>\n",
       "      <td>...</td>\n",
       "      <td>0.05</td>\n",
       "      <td>0.06</td>\n",
       "      <td>0.00</td>\n",
       "      <td>0.00</td>\n",
       "      <td>1.00</td>\n",
       "      <td>1.00</td>\n",
       "      <td>0.00</td>\n",
       "      <td>0.00</td>\n",
       "      <td>neptune</td>\n",
       "      <td>21</td>\n",
       "    </tr>\n",
       "  </tbody>\n",
       "</table>\n",
       "<p>10 rows × 43 columns</p>\n",
       "</div>"
      ],
      "text/plain": [
       "   duration protocol_type     service flag  src_bytes  dst_bytes  land  \\\n",
       "0         0           tcp    ftp_data   SF        491          0     0   \n",
       "1         0           udp       other   SF        146          0     0   \n",
       "2         0           tcp     private   S0          0          0     0   \n",
       "3         0           tcp        http   SF        232       8153     0   \n",
       "4         0           tcp        http   SF        199        420     0   \n",
       "5         0           tcp     private  REJ          0          0     0   \n",
       "6         0           tcp     private   S0          0          0     0   \n",
       "7         0           tcp     private   S0          0          0     0   \n",
       "8         0           tcp  remote_job   S0          0          0     0   \n",
       "9         0           tcp     private   S0          0          0     0   \n",
       "\n",
       "   wrong_fragment  urgent  hot  ...  dst_host_same_srv_rate  \\\n",
       "0               0       0    0  ...                    0.17   \n",
       "1               0       0    0  ...                    0.00   \n",
       "2               0       0    0  ...                    0.10   \n",
       "3               0       0    0  ...                    1.00   \n",
       "4               0       0    0  ...                    1.00   \n",
       "5               0       0    0  ...                    0.07   \n",
       "6               0       0    0  ...                    0.04   \n",
       "7               0       0    0  ...                    0.06   \n",
       "8               0       0    0  ...                    0.09   \n",
       "9               0       0    0  ...                    0.05   \n",
       "\n",
       "   dst_host_diff_srv_rate  dst_host_same_src_port_rate  \\\n",
       "0                    0.03                         0.17   \n",
       "1                    0.60                         0.88   \n",
       "2                    0.05                         0.00   \n",
       "3                    0.00                         0.03   \n",
       "4                    0.00                         0.00   \n",
       "5                    0.07                         0.00   \n",
       "6                    0.05                         0.00   \n",
       "7                    0.07                         0.00   \n",
       "8                    0.05                         0.00   \n",
       "9                    0.06                         0.00   \n",
       "\n",
       "   dst_host_srv_diff_host_rate  dst_host_serror_rate  \\\n",
       "0                         0.00                  0.00   \n",
       "1                         0.00                  0.00   \n",
       "2                         0.00                  1.00   \n",
       "3                         0.04                  0.03   \n",
       "4                         0.00                  0.00   \n",
       "5                         0.00                  0.00   \n",
       "6                         0.00                  1.00   \n",
       "7                         0.00                  1.00   \n",
       "8                         0.00                  1.00   \n",
       "9                         0.00                  1.00   \n",
       "\n",
       "   dst_host_srv_serror_rate  dst_host_rerror_rate  dst_host_srv_rerror_rate  \\\n",
       "0                      0.00                  0.05                      0.00   \n",
       "1                      0.00                  0.00                      0.00   \n",
       "2                      1.00                  0.00                      0.00   \n",
       "3                      0.01                  0.00                      0.01   \n",
       "4                      0.00                  0.00                      0.00   \n",
       "5                      0.00                  1.00                      1.00   \n",
       "6                      1.00                  0.00                      0.00   \n",
       "7                      1.00                  0.00                      0.00   \n",
       "8                      1.00                  0.00                      0.00   \n",
       "9                      1.00                  0.00                      0.00   \n",
       "\n",
       "     label  difficulty_level  \n",
       "0   normal                20  \n",
       "1   normal                15  \n",
       "2  neptune                19  \n",
       "3   normal                21  \n",
       "4   normal                21  \n",
       "5  neptune                21  \n",
       "6  neptune                21  \n",
       "7  neptune                21  \n",
       "8  neptune                21  \n",
       "9  neptune                21  \n",
       "\n",
       "[10 rows x 43 columns]"
      ]
     },
     "execution_count": 6,
     "metadata": {},
     "output_type": "execute_result"
    }
   ],
   "source": [
    "df_train.head(10)"
   ]
  },
  {
   "cell_type": "code",
   "execution_count": 7,
   "id": "bd769660",
   "metadata": {},
   "outputs": [
    {
     "data": {
      "text/html": [
       "<div>\n",
       "<style scoped>\n",
       "    .dataframe tbody tr th:only-of-type {\n",
       "        vertical-align: middle;\n",
       "    }\n",
       "\n",
       "    .dataframe tbody tr th {\n",
       "        vertical-align: top;\n",
       "    }\n",
       "\n",
       "    .dataframe thead th {\n",
       "        text-align: right;\n",
       "    }\n",
       "</style>\n",
       "<table border=\"1\" class=\"dataframe\">\n",
       "  <thead>\n",
       "    <tr style=\"text-align: right;\">\n",
       "      <th></th>\n",
       "      <th>duration</th>\n",
       "      <th>protocol_type</th>\n",
       "      <th>service</th>\n",
       "      <th>flag</th>\n",
       "      <th>src_bytes</th>\n",
       "      <th>dst_bytes</th>\n",
       "      <th>land</th>\n",
       "      <th>wrong_fragment</th>\n",
       "      <th>urgent</th>\n",
       "      <th>hot</th>\n",
       "      <th>...</th>\n",
       "      <th>dst_host_same_srv_rate</th>\n",
       "      <th>dst_host_diff_srv_rate</th>\n",
       "      <th>dst_host_same_src_port_rate</th>\n",
       "      <th>dst_host_srv_diff_host_rate</th>\n",
       "      <th>dst_host_serror_rate</th>\n",
       "      <th>dst_host_srv_serror_rate</th>\n",
       "      <th>dst_host_rerror_rate</th>\n",
       "      <th>dst_host_srv_rerror_rate</th>\n",
       "      <th>label</th>\n",
       "      <th>difficulty_level</th>\n",
       "    </tr>\n",
       "  </thead>\n",
       "  <tbody>\n",
       "    <tr>\n",
       "      <th>0</th>\n",
       "      <td>0</td>\n",
       "      <td>tcp</td>\n",
       "      <td>private</td>\n",
       "      <td>REJ</td>\n",
       "      <td>0</td>\n",
       "      <td>0</td>\n",
       "      <td>0</td>\n",
       "      <td>0</td>\n",
       "      <td>0</td>\n",
       "      <td>0</td>\n",
       "      <td>...</td>\n",
       "      <td>0.04</td>\n",
       "      <td>0.06</td>\n",
       "      <td>0.00</td>\n",
       "      <td>0.00</td>\n",
       "      <td>0.00</td>\n",
       "      <td>0.00</td>\n",
       "      <td>1.00</td>\n",
       "      <td>1.00</td>\n",
       "      <td>neptune</td>\n",
       "      <td>21</td>\n",
       "    </tr>\n",
       "    <tr>\n",
       "      <th>1</th>\n",
       "      <td>0</td>\n",
       "      <td>tcp</td>\n",
       "      <td>private</td>\n",
       "      <td>REJ</td>\n",
       "      <td>0</td>\n",
       "      <td>0</td>\n",
       "      <td>0</td>\n",
       "      <td>0</td>\n",
       "      <td>0</td>\n",
       "      <td>0</td>\n",
       "      <td>...</td>\n",
       "      <td>0.00</td>\n",
       "      <td>0.06</td>\n",
       "      <td>0.00</td>\n",
       "      <td>0.00</td>\n",
       "      <td>0.00</td>\n",
       "      <td>0.00</td>\n",
       "      <td>1.00</td>\n",
       "      <td>1.00</td>\n",
       "      <td>neptune</td>\n",
       "      <td>21</td>\n",
       "    </tr>\n",
       "    <tr>\n",
       "      <th>2</th>\n",
       "      <td>2</td>\n",
       "      <td>tcp</td>\n",
       "      <td>ftp_data</td>\n",
       "      <td>SF</td>\n",
       "      <td>12983</td>\n",
       "      <td>0</td>\n",
       "      <td>0</td>\n",
       "      <td>0</td>\n",
       "      <td>0</td>\n",
       "      <td>0</td>\n",
       "      <td>...</td>\n",
       "      <td>0.61</td>\n",
       "      <td>0.04</td>\n",
       "      <td>0.61</td>\n",
       "      <td>0.02</td>\n",
       "      <td>0.00</td>\n",
       "      <td>0.00</td>\n",
       "      <td>0.00</td>\n",
       "      <td>0.00</td>\n",
       "      <td>normal</td>\n",
       "      <td>21</td>\n",
       "    </tr>\n",
       "    <tr>\n",
       "      <th>3</th>\n",
       "      <td>0</td>\n",
       "      <td>icmp</td>\n",
       "      <td>eco_i</td>\n",
       "      <td>SF</td>\n",
       "      <td>20</td>\n",
       "      <td>0</td>\n",
       "      <td>0</td>\n",
       "      <td>0</td>\n",
       "      <td>0</td>\n",
       "      <td>0</td>\n",
       "      <td>...</td>\n",
       "      <td>1.00</td>\n",
       "      <td>0.00</td>\n",
       "      <td>1.00</td>\n",
       "      <td>0.28</td>\n",
       "      <td>0.00</td>\n",
       "      <td>0.00</td>\n",
       "      <td>0.00</td>\n",
       "      <td>0.00</td>\n",
       "      <td>saint</td>\n",
       "      <td>15</td>\n",
       "    </tr>\n",
       "    <tr>\n",
       "      <th>4</th>\n",
       "      <td>1</td>\n",
       "      <td>tcp</td>\n",
       "      <td>telnet</td>\n",
       "      <td>RSTO</td>\n",
       "      <td>0</td>\n",
       "      <td>15</td>\n",
       "      <td>0</td>\n",
       "      <td>0</td>\n",
       "      <td>0</td>\n",
       "      <td>0</td>\n",
       "      <td>...</td>\n",
       "      <td>0.31</td>\n",
       "      <td>0.17</td>\n",
       "      <td>0.03</td>\n",
       "      <td>0.02</td>\n",
       "      <td>0.00</td>\n",
       "      <td>0.00</td>\n",
       "      <td>0.83</td>\n",
       "      <td>0.71</td>\n",
       "      <td>mscan</td>\n",
       "      <td>11</td>\n",
       "    </tr>\n",
       "    <tr>\n",
       "      <th>5</th>\n",
       "      <td>0</td>\n",
       "      <td>tcp</td>\n",
       "      <td>http</td>\n",
       "      <td>SF</td>\n",
       "      <td>267</td>\n",
       "      <td>14515</td>\n",
       "      <td>0</td>\n",
       "      <td>0</td>\n",
       "      <td>0</td>\n",
       "      <td>0</td>\n",
       "      <td>...</td>\n",
       "      <td>1.00</td>\n",
       "      <td>0.00</td>\n",
       "      <td>0.01</td>\n",
       "      <td>0.03</td>\n",
       "      <td>0.01</td>\n",
       "      <td>0.00</td>\n",
       "      <td>0.00</td>\n",
       "      <td>0.00</td>\n",
       "      <td>normal</td>\n",
       "      <td>21</td>\n",
       "    </tr>\n",
       "    <tr>\n",
       "      <th>6</th>\n",
       "      <td>0</td>\n",
       "      <td>tcp</td>\n",
       "      <td>smtp</td>\n",
       "      <td>SF</td>\n",
       "      <td>1022</td>\n",
       "      <td>387</td>\n",
       "      <td>0</td>\n",
       "      <td>0</td>\n",
       "      <td>0</td>\n",
       "      <td>0</td>\n",
       "      <td>...</td>\n",
       "      <td>0.11</td>\n",
       "      <td>0.72</td>\n",
       "      <td>0.00</td>\n",
       "      <td>0.00</td>\n",
       "      <td>0.00</td>\n",
       "      <td>0.00</td>\n",
       "      <td>0.72</td>\n",
       "      <td>0.04</td>\n",
       "      <td>normal</td>\n",
       "      <td>21</td>\n",
       "    </tr>\n",
       "    <tr>\n",
       "      <th>7</th>\n",
       "      <td>0</td>\n",
       "      <td>tcp</td>\n",
       "      <td>telnet</td>\n",
       "      <td>SF</td>\n",
       "      <td>129</td>\n",
       "      <td>174</td>\n",
       "      <td>0</td>\n",
       "      <td>0</td>\n",
       "      <td>0</td>\n",
       "      <td>0</td>\n",
       "      <td>...</td>\n",
       "      <td>1.00</td>\n",
       "      <td>0.00</td>\n",
       "      <td>0.00</td>\n",
       "      <td>0.00</td>\n",
       "      <td>0.01</td>\n",
       "      <td>0.01</td>\n",
       "      <td>0.02</td>\n",
       "      <td>0.02</td>\n",
       "      <td>guess_passwd</td>\n",
       "      <td>15</td>\n",
       "    </tr>\n",
       "    <tr>\n",
       "      <th>8</th>\n",
       "      <td>0</td>\n",
       "      <td>tcp</td>\n",
       "      <td>http</td>\n",
       "      <td>SF</td>\n",
       "      <td>327</td>\n",
       "      <td>467</td>\n",
       "      <td>0</td>\n",
       "      <td>0</td>\n",
       "      <td>0</td>\n",
       "      <td>0</td>\n",
       "      <td>...</td>\n",
       "      <td>1.00</td>\n",
       "      <td>0.00</td>\n",
       "      <td>0.01</td>\n",
       "      <td>0.03</td>\n",
       "      <td>0.00</td>\n",
       "      <td>0.00</td>\n",
       "      <td>0.00</td>\n",
       "      <td>0.00</td>\n",
       "      <td>normal</td>\n",
       "      <td>21</td>\n",
       "    </tr>\n",
       "    <tr>\n",
       "      <th>9</th>\n",
       "      <td>0</td>\n",
       "      <td>tcp</td>\n",
       "      <td>ftp</td>\n",
       "      <td>SF</td>\n",
       "      <td>26</td>\n",
       "      <td>157</td>\n",
       "      <td>0</td>\n",
       "      <td>0</td>\n",
       "      <td>0</td>\n",
       "      <td>0</td>\n",
       "      <td>...</td>\n",
       "      <td>0.50</td>\n",
       "      <td>0.08</td>\n",
       "      <td>0.02</td>\n",
       "      <td>0.00</td>\n",
       "      <td>0.00</td>\n",
       "      <td>0.00</td>\n",
       "      <td>0.00</td>\n",
       "      <td>0.00</td>\n",
       "      <td>guess_passwd</td>\n",
       "      <td>7</td>\n",
       "    </tr>\n",
       "  </tbody>\n",
       "</table>\n",
       "<p>10 rows × 43 columns</p>\n",
       "</div>"
      ],
      "text/plain": [
       "   duration protocol_type   service  flag  src_bytes  dst_bytes  land  \\\n",
       "0         0           tcp   private   REJ          0          0     0   \n",
       "1         0           tcp   private   REJ          0          0     0   \n",
       "2         2           tcp  ftp_data    SF      12983          0     0   \n",
       "3         0          icmp     eco_i    SF         20          0     0   \n",
       "4         1           tcp    telnet  RSTO          0         15     0   \n",
       "5         0           tcp      http    SF        267      14515     0   \n",
       "6         0           tcp      smtp    SF       1022        387     0   \n",
       "7         0           tcp    telnet    SF        129        174     0   \n",
       "8         0           tcp      http    SF        327        467     0   \n",
       "9         0           tcp       ftp    SF         26        157     0   \n",
       "\n",
       "   wrong_fragment  urgent  hot  ...  dst_host_same_srv_rate  \\\n",
       "0               0       0    0  ...                    0.04   \n",
       "1               0       0    0  ...                    0.00   \n",
       "2               0       0    0  ...                    0.61   \n",
       "3               0       0    0  ...                    1.00   \n",
       "4               0       0    0  ...                    0.31   \n",
       "5               0       0    0  ...                    1.00   \n",
       "6               0       0    0  ...                    0.11   \n",
       "7               0       0    0  ...                    1.00   \n",
       "8               0       0    0  ...                    1.00   \n",
       "9               0       0    0  ...                    0.50   \n",
       "\n",
       "   dst_host_diff_srv_rate  dst_host_same_src_port_rate  \\\n",
       "0                    0.06                         0.00   \n",
       "1                    0.06                         0.00   \n",
       "2                    0.04                         0.61   \n",
       "3                    0.00                         1.00   \n",
       "4                    0.17                         0.03   \n",
       "5                    0.00                         0.01   \n",
       "6                    0.72                         0.00   \n",
       "7                    0.00                         0.00   \n",
       "8                    0.00                         0.01   \n",
       "9                    0.08                         0.02   \n",
       "\n",
       "   dst_host_srv_diff_host_rate  dst_host_serror_rate  \\\n",
       "0                         0.00                  0.00   \n",
       "1                         0.00                  0.00   \n",
       "2                         0.02                  0.00   \n",
       "3                         0.28                  0.00   \n",
       "4                         0.02                  0.00   \n",
       "5                         0.03                  0.01   \n",
       "6                         0.00                  0.00   \n",
       "7                         0.00                  0.01   \n",
       "8                         0.03                  0.00   \n",
       "9                         0.00                  0.00   \n",
       "\n",
       "   dst_host_srv_serror_rate  dst_host_rerror_rate  dst_host_srv_rerror_rate  \\\n",
       "0                      0.00                  1.00                      1.00   \n",
       "1                      0.00                  1.00                      1.00   \n",
       "2                      0.00                  0.00                      0.00   \n",
       "3                      0.00                  0.00                      0.00   \n",
       "4                      0.00                  0.83                      0.71   \n",
       "5                      0.00                  0.00                      0.00   \n",
       "6                      0.00                  0.72                      0.04   \n",
       "7                      0.01                  0.02                      0.02   \n",
       "8                      0.00                  0.00                      0.00   \n",
       "9                      0.00                  0.00                      0.00   \n",
       "\n",
       "          label  difficulty_level  \n",
       "0       neptune                21  \n",
       "1       neptune                21  \n",
       "2        normal                21  \n",
       "3         saint                15  \n",
       "4         mscan                11  \n",
       "5        normal                21  \n",
       "6        normal                21  \n",
       "7  guess_passwd                15  \n",
       "8        normal                21  \n",
       "9  guess_passwd                 7  \n",
       "\n",
       "[10 rows x 43 columns]"
      ]
     },
     "execution_count": 7,
     "metadata": {},
     "output_type": "execute_result"
    }
   ],
   "source": [
    "df_test.head(10)"
   ]
  },
  {
   "cell_type": "code",
   "execution_count": 8,
   "id": "496707ba",
   "metadata": {
    "scrolled": false
   },
   "outputs": [
    {
     "name": "stdout",
     "output_type": "stream",
     "text": [
      "<class 'pandas.core.frame.DataFrame'>\n",
      "RangeIndex: 125973 entries, 0 to 125972\n",
      "Data columns (total 43 columns):\n",
      " #   Column                       Non-Null Count   Dtype  \n",
      "---  ------                       --------------   -----  \n",
      " 0   duration                     125973 non-null  int64  \n",
      " 1   protocol_type                125973 non-null  object \n",
      " 2   service                      125973 non-null  object \n",
      " 3   flag                         125973 non-null  object \n",
      " 4   src_bytes                    125973 non-null  int64  \n",
      " 5   dst_bytes                    125973 non-null  int64  \n",
      " 6   land                         125973 non-null  int64  \n",
      " 7   wrong_fragment               125973 non-null  int64  \n",
      " 8   urgent                       125973 non-null  int64  \n",
      " 9   hot                          125973 non-null  int64  \n",
      " 10  num_failed_logins            125973 non-null  int64  \n",
      " 11  logged_in                    125973 non-null  int64  \n",
      " 12  num_compromised              125973 non-null  int64  \n",
      " 13  root_shell                   125973 non-null  int64  \n",
      " 14  su_attempted                 125973 non-null  int64  \n",
      " 15  num_root                     125973 non-null  int64  \n",
      " 16  num_file_creations           125973 non-null  int64  \n",
      " 17  num_shells                   125973 non-null  int64  \n",
      " 18  num_access_files             125973 non-null  int64  \n",
      " 19  num_outbound_cmds            125973 non-null  int64  \n",
      " 20  is_host_login                125973 non-null  int64  \n",
      " 21  is_guest_login               125973 non-null  int64  \n",
      " 22  count                        125973 non-null  int64  \n",
      " 23  srv_count                    125973 non-null  int64  \n",
      " 24  serror_rate                  125973 non-null  float64\n",
      " 25  srv_serror_rate              125973 non-null  float64\n",
      " 26  rerror_rate                  125973 non-null  float64\n",
      " 27  srv_rerror_rate              125973 non-null  float64\n",
      " 28  same_srv_rate                125973 non-null  float64\n",
      " 29  diff_srv_rate                125973 non-null  float64\n",
      " 30  srv_diff_host_rate           125973 non-null  float64\n",
      " 31  dst_host_count               125973 non-null  int64  \n",
      " 32  dst_host_srv_count           125973 non-null  int64  \n",
      " 33  dst_host_same_srv_rate       125973 non-null  float64\n",
      " 34  dst_host_diff_srv_rate       125973 non-null  float64\n",
      " 35  dst_host_same_src_port_rate  125973 non-null  float64\n",
      " 36  dst_host_srv_diff_host_rate  125973 non-null  float64\n",
      " 37  dst_host_serror_rate         125973 non-null  float64\n",
      " 38  dst_host_srv_serror_rate     125973 non-null  float64\n",
      " 39  dst_host_rerror_rate         125973 non-null  float64\n",
      " 40  dst_host_srv_rerror_rate     125973 non-null  float64\n",
      " 41  label                        125973 non-null  object \n",
      " 42  difficulty_level             125973 non-null  int64  \n",
      "dtypes: float64(15), int64(24), object(4)\n",
      "memory usage: 41.3+ MB\n"
     ]
    }
   ],
   "source": [
    "df_train.info()"
   ]
  },
  {
   "cell_type": "code",
   "execution_count": 9,
   "id": "d6b78c24",
   "metadata": {
    "scrolled": false
   },
   "outputs": [
    {
     "name": "stdout",
     "output_type": "stream",
     "text": [
      "<class 'pandas.core.frame.DataFrame'>\n",
      "RangeIndex: 22544 entries, 0 to 22543\n",
      "Data columns (total 43 columns):\n",
      " #   Column                       Non-Null Count  Dtype  \n",
      "---  ------                       --------------  -----  \n",
      " 0   duration                     22544 non-null  int64  \n",
      " 1   protocol_type                22544 non-null  object \n",
      " 2   service                      22544 non-null  object \n",
      " 3   flag                         22544 non-null  object \n",
      " 4   src_bytes                    22544 non-null  int64  \n",
      " 5   dst_bytes                    22544 non-null  int64  \n",
      " 6   land                         22544 non-null  int64  \n",
      " 7   wrong_fragment               22544 non-null  int64  \n",
      " 8   urgent                       22544 non-null  int64  \n",
      " 9   hot                          22544 non-null  int64  \n",
      " 10  num_failed_logins            22544 non-null  int64  \n",
      " 11  logged_in                    22544 non-null  int64  \n",
      " 12  num_compromised              22544 non-null  int64  \n",
      " 13  root_shell                   22544 non-null  int64  \n",
      " 14  su_attempted                 22544 non-null  int64  \n",
      " 15  num_root                     22544 non-null  int64  \n",
      " 16  num_file_creations           22544 non-null  int64  \n",
      " 17  num_shells                   22544 non-null  int64  \n",
      " 18  num_access_files             22544 non-null  int64  \n",
      " 19  num_outbound_cmds            22544 non-null  int64  \n",
      " 20  is_host_login                22544 non-null  int64  \n",
      " 21  is_guest_login               22544 non-null  int64  \n",
      " 22  count                        22544 non-null  int64  \n",
      " 23  srv_count                    22544 non-null  int64  \n",
      " 24  serror_rate                  22544 non-null  float64\n",
      " 25  srv_serror_rate              22544 non-null  float64\n",
      " 26  rerror_rate                  22544 non-null  float64\n",
      " 27  srv_rerror_rate              22544 non-null  float64\n",
      " 28  same_srv_rate                22544 non-null  float64\n",
      " 29  diff_srv_rate                22544 non-null  float64\n",
      " 30  srv_diff_host_rate           22544 non-null  float64\n",
      " 31  dst_host_count               22544 non-null  int64  \n",
      " 32  dst_host_srv_count           22544 non-null  int64  \n",
      " 33  dst_host_same_srv_rate       22544 non-null  float64\n",
      " 34  dst_host_diff_srv_rate       22544 non-null  float64\n",
      " 35  dst_host_same_src_port_rate  22544 non-null  float64\n",
      " 36  dst_host_srv_diff_host_rate  22544 non-null  float64\n",
      " 37  dst_host_serror_rate         22544 non-null  float64\n",
      " 38  dst_host_srv_serror_rate     22544 non-null  float64\n",
      " 39  dst_host_rerror_rate         22544 non-null  float64\n",
      " 40  dst_host_srv_rerror_rate     22544 non-null  float64\n",
      " 41  label                        22544 non-null  object \n",
      " 42  difficulty_level             22544 non-null  int64  \n",
      "dtypes: float64(15), int64(24), object(4)\n",
      "memory usage: 7.4+ MB\n"
     ]
    }
   ],
   "source": [
    "df_test.info()"
   ]
  },
  {
   "cell_type": "code",
   "execution_count": 10,
   "id": "03dd2bb2",
   "metadata": {
    "scrolled": false
   },
   "outputs": [
    {
     "name": "stdout",
     "output_type": "stream",
     "text": [
      "Label distribution Training set:\n",
      "normal             67343\n",
      "neptune            41214\n",
      "satan               3633\n",
      "ipsweep             3599\n",
      "portsweep           2931\n",
      "smurf               2646\n",
      "nmap                1493\n",
      "back                 956\n",
      "teardrop             892\n",
      "warezclient          890\n",
      "pod                  201\n",
      "guess_passwd          53\n",
      "buffer_overflow       30\n",
      "warezmaster           20\n",
      "land                  18\n",
      "imap                  11\n",
      "rootkit               10\n",
      "loadmodule             9\n",
      "ftp_write              8\n",
      "multihop               7\n",
      "phf                    4\n",
      "perl                   3\n",
      "spy                    2\n",
      "Name: label, dtype: int64\n",
      "\n",
      "\n",
      "\n",
      "Label distribution Test set:\n",
      "normal             9711\n",
      "neptune            4657\n",
      "guess_passwd       1231\n",
      "mscan               996\n",
      "warezmaster         944\n",
      "apache2             737\n",
      "satan               735\n",
      "processtable        685\n",
      "smurf               665\n",
      "back                359\n",
      "snmpguess           331\n",
      "saint               319\n",
      "mailbomb            293\n",
      "snmpgetattack       178\n",
      "portsweep           157\n",
      "ipsweep             141\n",
      "httptunnel          133\n",
      "nmap                 73\n",
      "pod                  41\n",
      "buffer_overflow      20\n",
      "multihop             18\n",
      "named                17\n",
      "ps                   15\n",
      "sendmail             14\n",
      "rootkit              13\n",
      "xterm                13\n",
      "teardrop             12\n",
      "xlock                 9\n",
      "land                  7\n",
      "xsnoop                4\n",
      "ftp_write             3\n",
      "worm                  2\n",
      "loadmodule            2\n",
      "perl                  2\n",
      "sqlattack             2\n",
      "udpstorm              2\n",
      "phf                   2\n",
      "imap                  1\n",
      "Name: label, dtype: int64\n"
     ]
    }
   ],
   "source": [
    "print('Label distribution Training set:')\n",
    "print(df_train['label'].value_counts())\n",
    "print()\n",
    "print()\n",
    "print()\n",
    "print('Label distribution Test set:')\n",
    "print(df_test['label'].value_counts())"
   ]
  },
  {
   "cell_type": "code",
   "execution_count": 11,
   "id": "caa3894a",
   "metadata": {},
   "outputs": [
    {
     "name": "stdout",
     "output_type": "stream",
     "text": [
      "Label distribution in the Training set:\n",
      "normal             67343\n",
      "neptune            41214\n",
      "satan               3633\n",
      "ipsweep             3599\n",
      "portsweep           2931\n",
      "smurf               2646\n",
      "nmap                1493\n",
      "back                 956\n",
      "teardrop             892\n",
      "warezclient          890\n",
      "pod                  201\n",
      "guess_passwd          53\n",
      "buffer_overflow       30\n",
      "warezmaster           20\n",
      "land                  18\n",
      "imap                  11\n",
      "rootkit               10\n",
      "loadmodule             9\n",
      "ftp_write              8\n",
      "multihop               7\n",
      "phf                    4\n",
      "perl                   3\n",
      "spy                    2\n",
      "Name: label, dtype: int64\n",
      "\n",
      "Label distribution in the Test set:\n",
      "normal             9711\n",
      "neptune            4657\n",
      "guess_passwd       1231\n",
      "mscan               996\n",
      "warezmaster         944\n",
      "apache2             737\n",
      "satan               735\n",
      "processtable        685\n",
      "smurf               665\n",
      "back                359\n",
      "snmpguess           331\n",
      "saint               319\n",
      "mailbomb            293\n",
      "snmpgetattack       178\n",
      "portsweep           157\n",
      "ipsweep             141\n",
      "httptunnel          133\n",
      "nmap                 73\n",
      "pod                  41\n",
      "buffer_overflow      20\n",
      "multihop             18\n",
      "named                17\n",
      "ps                   15\n",
      "sendmail             14\n",
      "rootkit              13\n",
      "xterm                13\n",
      "teardrop             12\n",
      "xlock                 9\n",
      "land                  7\n",
      "xsnoop                4\n",
      "ftp_write             3\n",
      "worm                  2\n",
      "loadmodule            2\n",
      "perl                  2\n",
      "sqlattack             2\n",
      "udpstorm              2\n",
      "phf                   2\n",
      "imap                  1\n",
      "Name: label, dtype: int64\n"
     ]
    }
   ],
   "source": [
    "# Print the label distribution for the training set\n",
    "print(\"Label distribution in the Training set:\")\n",
    "print(df_train[\"label\"].value_counts())\n",
    "\n",
    "# Print an empty line for spacing\n",
    "print()\n",
    "\n",
    "# Print the label distribution for the test set\n",
    "print(\"Label distribution in the Test set:\")\n",
    "print(df_test[\"label\"].value_counts())"
   ]
  },
  {
   "cell_type": "code",
   "execution_count": 12,
   "id": "f227fde2",
   "metadata": {},
   "outputs": [
    {
     "data": {
      "text/plain": [
       "(125973, 43)"
      ]
     },
     "execution_count": 12,
     "metadata": {},
     "output_type": "execute_result"
    }
   ],
   "source": [
    "# Lines with missing values are discarded. The dimensions for the Train dataset are reprinted.\n",
    "\n",
    "data_to_use = df_train.dropna()\n",
    "data_to_use.shape"
   ]
  },
  {
   "cell_type": "code",
   "execution_count": 13,
   "id": "066cf29d",
   "metadata": {},
   "outputs": [
    {
     "data": {
      "text/plain": [
       "(22544, 43)"
      ]
     },
     "execution_count": 13,
     "metadata": {},
     "output_type": "execute_result"
    }
   ],
   "source": [
    "# Lines with missing values are discarded. The dimensions for the test dataset are reprinted.\n",
    "\n",
    "data_to_use = df_test.dropna()\n",
    "data_to_use.shape"
   ]
  },
  {
   "cell_type": "code",
   "execution_count": 14,
   "id": "e912bab7",
   "metadata": {},
   "outputs": [
    {
     "name": "stdout",
     "output_type": "stream",
     "text": [
      "Dimensions of the Training set: (125973, 42)\n",
      "Dimensions of the Test set: (22544, 42)\n"
     ]
    }
   ],
   "source": [
    "# DROP THE LAST COLUMN\n",
    "df_train.drop(['difficulty_level'],axis=1,inplace=True)\n",
    "df_test.drop(['difficulty_level'],axis=1,inplace=True)\n",
    "\n",
    "# Print the dimensions of the datasets\n",
    "print(\"Dimensions of the Training set:\", df_train.shape)\n",
    "print(\"Dimensions of the Test set:\", df_test.shape)"
   ]
  },
  {
   "cell_type": "code",
   "execution_count": 15,
   "id": "7cbc9640",
   "metadata": {},
   "outputs": [
    {
     "name": "stdout",
     "output_type": "stream",
     "text": [
      "Training set:\n",
      "Feature 'protocol_type' has 3 categories\n",
      "Feature 'service' has 70 categories\n",
      "Feature 'flag' has 11 categories\n",
      "Feature 'label' has 23 categories\n",
      "\n",
      "Distribution of some categories\n",
      "http        40338\n",
      "private     21853\n",
      "domain_u     9043\n",
      "smtp         7313\n",
      "ftp_data     6860\n",
      "Name: service, dtype: int64\n",
      "\n",
      "SF      74945\n",
      "S0      34851\n",
      "REJ     11233\n",
      "RSTR     2421\n",
      "RSTO     1562\n",
      "Name: flag, dtype: int64\n"
     ]
    }
   ],
   "source": [
    "# Print message to show that the training set is being analyzed\n",
    "print('Training set:')\n",
    "\n",
    "# Iterate over each column in the training set\n",
    "for col_name in df_train.columns:\n",
    "  # Check if the column has an 'object' datatype\n",
    "  if df_train[col_name].dtypes == 'object':\n",
    "    # Count the number of unique categories in the column\n",
    "    unique_cat = len(df_train[col_name].unique())\n",
    "    # Print the column name and number of unique categories\n",
    "    print(\"Feature '{col_name}' has {unique_cat} categories\".format(col_name=col_name, unique_cat=unique_cat))\n",
    "\n",
    "# Print an empty line for formatting\n",
    "print()\n",
    "\n",
    "# Print a message showing that the distribution of some categories will be printed\n",
    "print('Distribution of some categories')\n",
    "\n",
    "# Print the top 5 most frequently occuring categories in the 'service' column\n",
    "print(df_train['service'].value_counts().sort_values(ascending=False).head())\n",
    "\n",
    "# Print an empty line for formatting\n",
    "print()\n",
    "\n",
    "# Print the top 5 most frequently occuring categories in the 'flag' column\n",
    "print(df_train['flag'].value_counts().sort_values(ascending=False).head())"
   ]
  },
  {
   "cell_type": "code",
   "execution_count": 16,
   "id": "fbdbc4b2",
   "metadata": {},
   "outputs": [
    {
     "name": "stdout",
     "output_type": "stream",
     "text": [
      "Test set:\n",
      "Feature 'protocol_type' has 3 categories\n",
      "Feature 'service' has 64 categories\n",
      "Feature 'flag' has 11 categories\n",
      "Feature 'label' has 38 categories\n",
      "\n",
      "Distribution of some categories\n",
      "http       7853\n",
      "private    4774\n",
      "telnet     1626\n",
      "pop_3      1019\n",
      "smtp        934\n",
      "Name: service, dtype: int64\n",
      "\n",
      "SF      14875\n",
      "REJ      3850\n",
      "S0       2013\n",
      "RSTO      773\n",
      "RSTR      669\n",
      "Name: flag, dtype: int64\n"
     ]
    }
   ],
   "source": [
    "# Print message to show that the test set is being analyzed\n",
    "print('Test set:')\n",
    "\n",
    "# Iterate over each column in the test set\n",
    "for col_name in df_test.columns:\n",
    "  # Check if the column has an 'object' datatype\n",
    "  if df_test[col_name].dtypes == 'object':\n",
    "    # Count the number of unique categories in the column\n",
    "    unique_cat = len(df_test[col_name].unique())\n",
    "    # Print the column name and number of unique categories\n",
    "    print(\"Feature '{col_name}' has {unique_cat} categories\".format(col_name=col_name, unique_cat=unique_cat))\n",
    "\n",
    "# Print an empty line for formatting\n",
    "print()\n",
    "\n",
    "# Print a message showing that the distribution of some categories will be printed\n",
    "print('Distribution of some categories')\n",
    "\n",
    "# Print the top 5 most frequently occuring categories in the 'service' column\n",
    "print(df_test['service'].value_counts().sort_values(ascending=False).head())\n",
    "\n",
    "# Print an empty line for formatting\n",
    "print()\n",
    "\n",
    "# Print the top 5 most frequently occuring categories in the 'flag' column\n",
    "print(df_test['flag'].value_counts().sort_values(ascending=False).head())"
   ]
  },
  {
   "cell_type": "code",
   "execution_count": 17,
   "id": "52b1aa59",
   "metadata": {},
   "outputs": [
    {
     "name": "stdout",
     "output_type": "stream",
     "text": [
      "  protocol_type     service flag\n",
      "0           tcp    ftp_data   SF\n",
      "1           udp       other   SF\n",
      "2           tcp     private   S0\n",
      "3           tcp        http   SF\n",
      "4           tcp        http   SF\n",
      "5           tcp     private  REJ\n",
      "6           tcp     private   S0\n",
      "7           tcp     private   S0\n",
      "8           tcp  remote_job   S0\n",
      "9           tcp     private   S0\n",
      "\n",
      "  protocol_type   service  flag\n",
      "0           tcp   private   REJ\n",
      "1           tcp   private   REJ\n",
      "2           tcp  ftp_data    SF\n",
      "3          icmp     eco_i    SF\n",
      "4           tcp    telnet  RSTO\n",
      "5           tcp      http    SF\n",
      "6           tcp      smtp    SF\n",
      "7           tcp    telnet    SF\n",
      "8           tcp      http    SF\n",
      "9           tcp       ftp    SF\n"
     ]
    }
   ],
   "source": [
    "# Select the categorical columns in the dataframe\n",
    "categorical_columns = ['protocol_type', 'service', 'flag']\n",
    "\n",
    "# Extract the categorical values from the training and test sets\n",
    "df_categorical_values = df_train[categorical_columns]\n",
    "testdf_categorical_values = df_test[categorical_columns]\n",
    "\n",
    "# Print the first 10 rows of the categorical values in the training set\n",
    "print(df_categorical_values.head(10))\n",
    "\n",
    "print()\n",
    "\n",
    "# Print the first 10 rows of the categorical values in the test set\n",
    "print(testdf_categorical_values.head(10))"
   ]
  },
  {
   "cell_type": "code",
   "execution_count": 18,
   "id": "e74ac5fe",
   "metadata": {},
   "outputs": [
    {
     "name": "stdout",
     "output_type": "stream",
     "text": [
      "['Protocol_type_icmp', 'Protocol_type_tcp', 'Protocol_type_udp', 'service_IRC', 'service_X11', 'service_Z39_50', 'service_aol', 'service_auth', 'service_bgp', 'service_courier', 'service_csnet_ns', 'service_ctf', 'service_daytime', 'service_discard', 'service_domain', 'service_domain_u', 'service_echo', 'service_eco_i', 'service_ecr_i', 'service_efs', 'service_exec', 'service_finger', 'service_ftp', 'service_ftp_data', 'service_gopher', 'service_harvest', 'service_hostnames', 'service_http', 'service_http_2784', 'service_http_443', 'service_http_8001', 'service_imap4', 'service_iso_tsap', 'service_klogin', 'service_kshell', 'service_ldap', 'service_link', 'service_login', 'service_mtp', 'service_name', 'service_netbios_dgm', 'service_netbios_ns', 'service_netbios_ssn', 'service_netstat', 'service_nnsp', 'service_nntp', 'service_ntp_u', 'service_other', 'service_pm_dump', 'service_pop_2', 'service_pop_3', 'service_printer', 'service_private', 'service_red_i', 'service_remote_job', 'service_rje', 'service_shell', 'service_smtp', 'service_sql_net', 'service_ssh', 'service_sunrpc', 'service_supdup', 'service_systat', 'service_telnet', 'service_tftp_u', 'service_tim_i', 'service_time', 'service_urh_i', 'service_urp_i', 'service_uucp', 'service_uucp_path', 'service_vmnet', 'service_whois', 'flag_OTH', 'flag_REJ', 'flag_RSTO', 'flag_RSTOS0', 'flag_RSTR', 'flag_S0', 'flag_S1', 'flag_S2', 'flag_S3', 'flag_SF', 'flag_SH']\n"
     ]
    }
   ],
   "source": [
    "# Protocol type\n",
    "# Get the unique values of the 'protocol_type' column in the training set\n",
    "unique_protocol = sorted(df_train.protocol_type.unique())\n",
    "\n",
    "# Prefix for the dummy column names for 'protocol_type'\n",
    "string1 = 'Protocol_type_'\n",
    "\n",
    "# Create a list of dummy column names for 'protocol_type'\n",
    "unique_protocol2 = [string1 + x for x in unique_protocol]\n",
    "\n",
    "# Service\n",
    "# Get the unique values of the 'service' column in the training set\n",
    "unique_service = sorted(df_train.service.unique())\n",
    "\n",
    "# Prefix for the dummy column names for 'service'\n",
    "string2 = 'service_'\n",
    "\n",
    "# Create a list of dummy column names for 'service'\n",
    "unique_service2 = [string2 + x for x in unique_service]\n",
    "\n",
    "# Flag\n",
    "# Get the unique values of the 'flag' column in the training set\n",
    "unique_flag = sorted(df_train.flag.unique())\n",
    "\n",
    "# Prefix for the dummy column names for 'flag'\n",
    "string3 = 'flag_'\n",
    "\n",
    "# Create a list of dummy column names for 'flag'\n",
    "unique_flag2 = [string3 + x for x in unique_flag]\n",
    "\n",
    "# Concatenate the lists of dummy column names\n",
    "dumcols = unique_protocol2 + unique_service2 + unique_flag2\n",
    "print(dumcols)\n",
    "\n",
    "# Do the same for the test set\n",
    "# Get the unique values of the 'service' column in the test set\n",
    "unique_service_test = sorted(df_test.service.unique())\n",
    "\n",
    "# Create a list of dummy column names for 'service' in the test set\n",
    "unique_service2_test = [string2 + x for x in unique_service_test]\n",
    "\n",
    "# Concatenate the lists of dummy column names for the test set\n",
    "testdumcols = unique_protocol2 + unique_service2_test + unique_flag2"
   ]
  },
  {
   "cell_type": "code",
   "execution_count": 19,
   "id": "cea27b09",
   "metadata": {},
   "outputs": [
    {
     "name": "stdout",
     "output_type": "stream",
     "text": [
      "   protocol_type  service  flag\n",
      "0              1       20     9\n",
      "1              2       44     9\n",
      "2              1       49     5\n",
      "3              1       24     9\n",
      "4              1       24     9\n"
     ]
    }
   ],
   "source": [
    "# Encode the categorical values in the training set using a label encoder\n",
    "df_categorical_values_enc = df_categorical_values.apply(LabelEncoder().fit_transform)\n",
    "\n",
    "# Print the encoded categorical values in the training set\n",
    "print(df_categorical_values_enc.head())\n",
    "\n",
    "# Encode the categorical values in the test set using the same label encoder\n",
    "testdf_categorical_values_enc = testdf_categorical_values.apply(LabelEncoder().fit_transform)"
   ]
  },
  {
   "cell_type": "code",
   "execution_count": 20,
   "id": "0ec4087c",
   "metadata": {},
   "outputs": [
    {
     "data": {
      "text/html": [
       "<div>\n",
       "<style scoped>\n",
       "    .dataframe tbody tr th:only-of-type {\n",
       "        vertical-align: middle;\n",
       "    }\n",
       "\n",
       "    .dataframe tbody tr th {\n",
       "        vertical-align: top;\n",
       "    }\n",
       "\n",
       "    .dataframe thead th {\n",
       "        text-align: right;\n",
       "    }\n",
       "</style>\n",
       "<table border=\"1\" class=\"dataframe\">\n",
       "  <thead>\n",
       "    <tr style=\"text-align: right;\">\n",
       "      <th></th>\n",
       "      <th>Protocol_type_icmp</th>\n",
       "      <th>Protocol_type_tcp</th>\n",
       "      <th>Protocol_type_udp</th>\n",
       "      <th>service_IRC</th>\n",
       "      <th>service_X11</th>\n",
       "      <th>service_Z39_50</th>\n",
       "      <th>service_aol</th>\n",
       "      <th>service_auth</th>\n",
       "      <th>service_bgp</th>\n",
       "      <th>service_courier</th>\n",
       "      <th>...</th>\n",
       "      <th>flag_REJ</th>\n",
       "      <th>flag_RSTO</th>\n",
       "      <th>flag_RSTOS0</th>\n",
       "      <th>flag_RSTR</th>\n",
       "      <th>flag_S0</th>\n",
       "      <th>flag_S1</th>\n",
       "      <th>flag_S2</th>\n",
       "      <th>flag_S3</th>\n",
       "      <th>flag_SF</th>\n",
       "      <th>flag_SH</th>\n",
       "    </tr>\n",
       "  </thead>\n",
       "  <tbody>\n",
       "    <tr>\n",
       "      <th>0</th>\n",
       "      <td>0.0</td>\n",
       "      <td>1.0</td>\n",
       "      <td>0.0</td>\n",
       "      <td>0.0</td>\n",
       "      <td>0.0</td>\n",
       "      <td>0.0</td>\n",
       "      <td>0.0</td>\n",
       "      <td>0.0</td>\n",
       "      <td>0.0</td>\n",
       "      <td>0.0</td>\n",
       "      <td>...</td>\n",
       "      <td>0.0</td>\n",
       "      <td>0.0</td>\n",
       "      <td>0.0</td>\n",
       "      <td>0.0</td>\n",
       "      <td>0.0</td>\n",
       "      <td>0.0</td>\n",
       "      <td>0.0</td>\n",
       "      <td>0.0</td>\n",
       "      <td>1.0</td>\n",
       "      <td>0.0</td>\n",
       "    </tr>\n",
       "    <tr>\n",
       "      <th>1</th>\n",
       "      <td>0.0</td>\n",
       "      <td>0.0</td>\n",
       "      <td>1.0</td>\n",
       "      <td>0.0</td>\n",
       "      <td>0.0</td>\n",
       "      <td>0.0</td>\n",
       "      <td>0.0</td>\n",
       "      <td>0.0</td>\n",
       "      <td>0.0</td>\n",
       "      <td>0.0</td>\n",
       "      <td>...</td>\n",
       "      <td>0.0</td>\n",
       "      <td>0.0</td>\n",
       "      <td>0.0</td>\n",
       "      <td>0.0</td>\n",
       "      <td>0.0</td>\n",
       "      <td>0.0</td>\n",
       "      <td>0.0</td>\n",
       "      <td>0.0</td>\n",
       "      <td>1.0</td>\n",
       "      <td>0.0</td>\n",
       "    </tr>\n",
       "    <tr>\n",
       "      <th>2</th>\n",
       "      <td>0.0</td>\n",
       "      <td>1.0</td>\n",
       "      <td>0.0</td>\n",
       "      <td>0.0</td>\n",
       "      <td>0.0</td>\n",
       "      <td>0.0</td>\n",
       "      <td>0.0</td>\n",
       "      <td>0.0</td>\n",
       "      <td>0.0</td>\n",
       "      <td>0.0</td>\n",
       "      <td>...</td>\n",
       "      <td>0.0</td>\n",
       "      <td>0.0</td>\n",
       "      <td>0.0</td>\n",
       "      <td>0.0</td>\n",
       "      <td>1.0</td>\n",
       "      <td>0.0</td>\n",
       "      <td>0.0</td>\n",
       "      <td>0.0</td>\n",
       "      <td>0.0</td>\n",
       "      <td>0.0</td>\n",
       "    </tr>\n",
       "    <tr>\n",
       "      <th>3</th>\n",
       "      <td>0.0</td>\n",
       "      <td>1.0</td>\n",
       "      <td>0.0</td>\n",
       "      <td>0.0</td>\n",
       "      <td>0.0</td>\n",
       "      <td>0.0</td>\n",
       "      <td>0.0</td>\n",
       "      <td>0.0</td>\n",
       "      <td>0.0</td>\n",
       "      <td>0.0</td>\n",
       "      <td>...</td>\n",
       "      <td>0.0</td>\n",
       "      <td>0.0</td>\n",
       "      <td>0.0</td>\n",
       "      <td>0.0</td>\n",
       "      <td>0.0</td>\n",
       "      <td>0.0</td>\n",
       "      <td>0.0</td>\n",
       "      <td>0.0</td>\n",
       "      <td>1.0</td>\n",
       "      <td>0.0</td>\n",
       "    </tr>\n",
       "    <tr>\n",
       "      <th>4</th>\n",
       "      <td>0.0</td>\n",
       "      <td>1.0</td>\n",
       "      <td>0.0</td>\n",
       "      <td>0.0</td>\n",
       "      <td>0.0</td>\n",
       "      <td>0.0</td>\n",
       "      <td>0.0</td>\n",
       "      <td>0.0</td>\n",
       "      <td>0.0</td>\n",
       "      <td>0.0</td>\n",
       "      <td>...</td>\n",
       "      <td>0.0</td>\n",
       "      <td>0.0</td>\n",
       "      <td>0.0</td>\n",
       "      <td>0.0</td>\n",
       "      <td>0.0</td>\n",
       "      <td>0.0</td>\n",
       "      <td>0.0</td>\n",
       "      <td>0.0</td>\n",
       "      <td>1.0</td>\n",
       "      <td>0.0</td>\n",
       "    </tr>\n",
       "    <tr>\n",
       "      <th>5</th>\n",
       "      <td>0.0</td>\n",
       "      <td>1.0</td>\n",
       "      <td>0.0</td>\n",
       "      <td>0.0</td>\n",
       "      <td>0.0</td>\n",
       "      <td>0.0</td>\n",
       "      <td>0.0</td>\n",
       "      <td>0.0</td>\n",
       "      <td>0.0</td>\n",
       "      <td>0.0</td>\n",
       "      <td>...</td>\n",
       "      <td>1.0</td>\n",
       "      <td>0.0</td>\n",
       "      <td>0.0</td>\n",
       "      <td>0.0</td>\n",
       "      <td>0.0</td>\n",
       "      <td>0.0</td>\n",
       "      <td>0.0</td>\n",
       "      <td>0.0</td>\n",
       "      <td>0.0</td>\n",
       "      <td>0.0</td>\n",
       "    </tr>\n",
       "    <tr>\n",
       "      <th>6</th>\n",
       "      <td>0.0</td>\n",
       "      <td>1.0</td>\n",
       "      <td>0.0</td>\n",
       "      <td>0.0</td>\n",
       "      <td>0.0</td>\n",
       "      <td>0.0</td>\n",
       "      <td>0.0</td>\n",
       "      <td>0.0</td>\n",
       "      <td>0.0</td>\n",
       "      <td>0.0</td>\n",
       "      <td>...</td>\n",
       "      <td>0.0</td>\n",
       "      <td>0.0</td>\n",
       "      <td>0.0</td>\n",
       "      <td>0.0</td>\n",
       "      <td>1.0</td>\n",
       "      <td>0.0</td>\n",
       "      <td>0.0</td>\n",
       "      <td>0.0</td>\n",
       "      <td>0.0</td>\n",
       "      <td>0.0</td>\n",
       "    </tr>\n",
       "    <tr>\n",
       "      <th>7</th>\n",
       "      <td>0.0</td>\n",
       "      <td>1.0</td>\n",
       "      <td>0.0</td>\n",
       "      <td>0.0</td>\n",
       "      <td>0.0</td>\n",
       "      <td>0.0</td>\n",
       "      <td>0.0</td>\n",
       "      <td>0.0</td>\n",
       "      <td>0.0</td>\n",
       "      <td>0.0</td>\n",
       "      <td>...</td>\n",
       "      <td>0.0</td>\n",
       "      <td>0.0</td>\n",
       "      <td>0.0</td>\n",
       "      <td>0.0</td>\n",
       "      <td>1.0</td>\n",
       "      <td>0.0</td>\n",
       "      <td>0.0</td>\n",
       "      <td>0.0</td>\n",
       "      <td>0.0</td>\n",
       "      <td>0.0</td>\n",
       "    </tr>\n",
       "    <tr>\n",
       "      <th>8</th>\n",
       "      <td>0.0</td>\n",
       "      <td>1.0</td>\n",
       "      <td>0.0</td>\n",
       "      <td>0.0</td>\n",
       "      <td>0.0</td>\n",
       "      <td>0.0</td>\n",
       "      <td>0.0</td>\n",
       "      <td>0.0</td>\n",
       "      <td>0.0</td>\n",
       "      <td>0.0</td>\n",
       "      <td>...</td>\n",
       "      <td>0.0</td>\n",
       "      <td>0.0</td>\n",
       "      <td>0.0</td>\n",
       "      <td>0.0</td>\n",
       "      <td>1.0</td>\n",
       "      <td>0.0</td>\n",
       "      <td>0.0</td>\n",
       "      <td>0.0</td>\n",
       "      <td>0.0</td>\n",
       "      <td>0.0</td>\n",
       "    </tr>\n",
       "    <tr>\n",
       "      <th>9</th>\n",
       "      <td>0.0</td>\n",
       "      <td>1.0</td>\n",
       "      <td>0.0</td>\n",
       "      <td>0.0</td>\n",
       "      <td>0.0</td>\n",
       "      <td>0.0</td>\n",
       "      <td>0.0</td>\n",
       "      <td>0.0</td>\n",
       "      <td>0.0</td>\n",
       "      <td>0.0</td>\n",
       "      <td>...</td>\n",
       "      <td>0.0</td>\n",
       "      <td>0.0</td>\n",
       "      <td>0.0</td>\n",
       "      <td>0.0</td>\n",
       "      <td>1.0</td>\n",
       "      <td>0.0</td>\n",
       "      <td>0.0</td>\n",
       "      <td>0.0</td>\n",
       "      <td>0.0</td>\n",
       "      <td>0.0</td>\n",
       "    </tr>\n",
       "  </tbody>\n",
       "</table>\n",
       "<p>10 rows × 84 columns</p>\n",
       "</div>"
      ],
      "text/plain": [
       "   Protocol_type_icmp  Protocol_type_tcp  Protocol_type_udp  service_IRC  \\\n",
       "0                 0.0                1.0                0.0          0.0   \n",
       "1                 0.0                0.0                1.0          0.0   \n",
       "2                 0.0                1.0                0.0          0.0   \n",
       "3                 0.0                1.0                0.0          0.0   \n",
       "4                 0.0                1.0                0.0          0.0   \n",
       "5                 0.0                1.0                0.0          0.0   \n",
       "6                 0.0                1.0                0.0          0.0   \n",
       "7                 0.0                1.0                0.0          0.0   \n",
       "8                 0.0                1.0                0.0          0.0   \n",
       "9                 0.0                1.0                0.0          0.0   \n",
       "\n",
       "   service_X11  service_Z39_50  service_aol  service_auth  service_bgp  \\\n",
       "0          0.0             0.0          0.0           0.0          0.0   \n",
       "1          0.0             0.0          0.0           0.0          0.0   \n",
       "2          0.0             0.0          0.0           0.0          0.0   \n",
       "3          0.0             0.0          0.0           0.0          0.0   \n",
       "4          0.0             0.0          0.0           0.0          0.0   \n",
       "5          0.0             0.0          0.0           0.0          0.0   \n",
       "6          0.0             0.0          0.0           0.0          0.0   \n",
       "7          0.0             0.0          0.0           0.0          0.0   \n",
       "8          0.0             0.0          0.0           0.0          0.0   \n",
       "9          0.0             0.0          0.0           0.0          0.0   \n",
       "\n",
       "   service_courier  ...  flag_REJ  flag_RSTO  flag_RSTOS0  flag_RSTR  flag_S0  \\\n",
       "0              0.0  ...       0.0        0.0          0.0        0.0      0.0   \n",
       "1              0.0  ...       0.0        0.0          0.0        0.0      0.0   \n",
       "2              0.0  ...       0.0        0.0          0.0        0.0      1.0   \n",
       "3              0.0  ...       0.0        0.0          0.0        0.0      0.0   \n",
       "4              0.0  ...       0.0        0.0          0.0        0.0      0.0   \n",
       "5              0.0  ...       1.0        0.0          0.0        0.0      0.0   \n",
       "6              0.0  ...       0.0        0.0          0.0        0.0      1.0   \n",
       "7              0.0  ...       0.0        0.0          0.0        0.0      1.0   \n",
       "8              0.0  ...       0.0        0.0          0.0        0.0      1.0   \n",
       "9              0.0  ...       0.0        0.0          0.0        0.0      1.0   \n",
       "\n",
       "   flag_S1  flag_S2  flag_S3  flag_SF  flag_SH  \n",
       "0      0.0      0.0      0.0      1.0      0.0  \n",
       "1      0.0      0.0      0.0      1.0      0.0  \n",
       "2      0.0      0.0      0.0      0.0      0.0  \n",
       "3      0.0      0.0      0.0      1.0      0.0  \n",
       "4      0.0      0.0      0.0      1.0      0.0  \n",
       "5      0.0      0.0      0.0      0.0      0.0  \n",
       "6      0.0      0.0      0.0      0.0      0.0  \n",
       "7      0.0      0.0      0.0      0.0      0.0  \n",
       "8      0.0      0.0      0.0      0.0      0.0  \n",
       "9      0.0      0.0      0.0      0.0      0.0  \n",
       "\n",
       "[10 rows x 84 columns]"
      ]
     },
     "execution_count": 20,
     "metadata": {},
     "output_type": "execute_result"
    }
   ],
   "source": [
    "# Create an one-hot encoder object\n",
    "one_hot_encoder = OneHotEncoder()\n",
    "\n",
    "# Encode the encoded categorical values in the training set using the one-hot encoder\n",
    "df_categorical_values_encenc = one_hot_encoder.fit_transform(df_categorical_values_enc)\n",
    "\n",
    "# Create a Pandas DataFrame from the encoded categorical values\n",
    "df_cat_data = pd.DataFrame(df_categorical_values_encenc.toarray(), columns=dumcols)\n",
    "\n",
    "# Encode the encoded categorical values in the test set using the one-hot encoder\n",
    "testdf_categorical_values_encenc = one_hot_encoder.fit_transform(testdf_categorical_values_enc)\n",
    "\n",
    "# Create a Pandas DataFrame from the encoded categorical values in the test set\n",
    "testdf_cat_data = pd.DataFrame(testdf_categorical_values_encenc.toarray(), columns=testdumcols)\n",
    "\n",
    "# Print the first few rows of the training set categorical data\n",
    "df_cat_data.head(10)"
   ]
  },
  {
   "cell_type": "code",
   "execution_count": 21,
   "id": "e218bb4a",
   "metadata": {},
   "outputs": [
    {
     "name": "stdout",
     "output_type": "stream",
     "text": [
      "['service_urh_i', 'service_red_i', 'service_http_2784', 'service_http_8001', 'service_aol', 'service_harvest']\n"
     ]
    },
    {
     "data": {
      "text/plain": [
       "(22544, 84)"
      ]
     },
     "execution_count": 21,
     "metadata": {},
     "output_type": "execute_result"
    }
   ],
   "source": [
    "# Get the 'service' column from the training set as a list\n",
    "trainservice = df_train['service'].tolist()\n",
    "\n",
    "# Get the 'service' column from the test set as a list\n",
    "testservice = df_test['service'].tolist()\n",
    "\n",
    "# Find the difference between the sets of 'service' values in the training and test sets\n",
    "difference = list(set(trainservice) - set(testservice))\n",
    "\n",
    "# Prefix for the dummy column names for 'service'\n",
    "string = 'service_'\n",
    "\n",
    "# Create a list of dummy column names for 'service' in the difference set\n",
    "difference = [string + x for x in difference]\n",
    "\n",
    "# Print the list of dummy column names\n",
    "print(difference)\n",
    "\n",
    "for col in difference:\n",
    "    testdf_cat_data[col] = 0\n",
    "\n",
    "testdf_cat_data.shape"
   ]
  },
  {
   "cell_type": "code",
   "execution_count": 22,
   "id": "09f956f0",
   "metadata": {},
   "outputs": [
    {
     "name": "stdout",
     "output_type": "stream",
     "text": [
      "(125973, 123)\n",
      "(22544, 123)\n"
     ]
    }
   ],
   "source": [
    "# Join the encoded categorical data to the training set\n",
    "newdf_train = df_train.join(df_cat_data)\n",
    "\n",
    "# Drop the original categorical columns from the training set\n",
    "newdf_train.drop('flag', axis=1, inplace=True)\n",
    "newdf_train.drop('protocol_type', axis=1, inplace=True)\n",
    "newdf_train.drop('service', axis=1, inplace=True)\n",
    "\n",
    "# Join the encoded categorical data to the test set\n",
    "newdf_test = df_test.join(testdf_cat_data)\n",
    "\n",
    "# Drop the original categorical columns from the test set\n",
    "newdf_test.drop('flag', axis=1, inplace=True)\n",
    "newdf_test.drop('protocol_type', axis=1, inplace=True)\n",
    "newdf_test.drop('service', axis=1, inplace=True)\n",
    "\n",
    "# Print the shapes of the modified training and test sets\n",
    "print(newdf_train.shape)\n",
    "print(newdf_test.shape)"
   ]
  },
  {
   "cell_type": "code",
   "execution_count": 23,
   "id": "6217aff8",
   "metadata": {},
   "outputs": [
    {
     "name": "stdout",
     "output_type": "stream",
     "text": [
      "0    0\n",
      "1    0\n",
      "2    1\n",
      "3    0\n",
      "4    0\n",
      "5    1\n",
      "6    1\n",
      "7    1\n",
      "8    1\n",
      "9    1\n",
      "Name: label, dtype: int64\n"
     ]
    }
   ],
   "source": [
    "# Get the 'label' column from the training set\n",
    "labeldf_train = newdf_train['label']\n",
    "\n",
    "# Get the 'label' column from the test set\n",
    "labeldf_test = newdf_test['label']\n",
    "\n",
    "# Replace the string values in the 'label' column with numerical values in the training set\n",
    "newlabeldf_train=labeldf_train.replace({ 'normal' : 0, \n",
    "                                         'neptune' : 1 ,\n",
    "                                         'back': 1, \n",
    "                                         'land': 1, \n",
    "                                         'pod': 1, \n",
    "                                         'smurf': 1,\n",
    "                                         'teardrop': 1,\n",
    "                                         'mailbomb': 1, \n",
    "                                        'apache2': 1, \n",
    "                                        'processtable': 1, \n",
    "                                        'udpstorm': 1, \n",
    "                                        'worm': 1,\n",
    "                                        'ipsweep' : 2,\n",
    "                                        'nmap' : 2,\n",
    "                                        'portsweep' : 2,\n",
    "                                        'satan' : 2,\n",
    "                                        'mscan' : 2,\n",
    "                                        'saint' : 2,\n",
    "                                        'ftp_write': 3,\n",
    "                                        'guess_passwd': 3,\n",
    "                                        'imap': 3,\n",
    "                                        'multihop': 3,\n",
    "                                        'phf': 3,\n",
    "                                        'spy': 3,\n",
    "                                        'warezclient': 3,\n",
    "                                        'warezmaster': 3,\n",
    "                                        'sendmail': 3,\n",
    "                                        'named': 3,\n",
    "                                        'snmpgetattack': 3,\n",
    "                                        'snmpguess': 3,\n",
    "                                        'xlock': 3,\n",
    "                                        'xsnoop': 3,\n",
    "                                        'httptunnel': 3,\n",
    "                                        'buffer_overflow': 4,\n",
    "                                        'loadmodule': 4,\n",
    "                                        'perl': 4,\n",
    "                                        'rootkit': 4,\n",
    "                                        'ps': 4,\n",
    "                                        'sqlattack': 4,\n",
    "                                        'xterm': 4})\n",
    "\n",
    "# Replace the string values in the 'label' column with numerical values in the test set\n",
    "newlabeldf_test=labeldf_test.replace({ 'normal' : 0,\n",
    "                                      'neptune' : 1 ,\n",
    "                                      'back': 1, \n",
    "                                      'land': 1,\n",
    "                                      'pod': 1,\n",
    "                                      'smurf': 1, \n",
    "                                      'teardrop': 1,\n",
    "                                      'mailbomb': 1, \n",
    "                                      'apache2': 1, \n",
    "                                      'processtable': 1, \n",
    "                                      'udpstorm': 1, \n",
    "                                      'worm': 1,\n",
    "                                      'ipsweep' : 2,\n",
    "                                      'nmap' : 2,\n",
    "                                      'portsweep' : 2,\n",
    "                                      'satan' : 2,\n",
    "                                      'mscan' : 2,'saint' : 2,\n",
    "                                      'ftp_write': 3,\n",
    "                                      'guess_passwd': 3,\n",
    "                                      'imap': 3,\n",
    "                                      'multihop': 3,\n",
    "                                      'phf': 3,\n",
    "                                      'spy': 3,\n",
    "                                      'warezclient': 3,\n",
    "                                      'warezmaster': 3,\n",
    "                                      'sendmail': 3,\n",
    "                                      'named': 3,\n",
    "                                      'snmpgetattack': 3,\n",
    "                                      'snmpguess': 3,\n",
    "                                      'xlock': 3,\n",
    "                                      'xsnoop': 3,\n",
    "                                      'httptunnel': 3,\n",
    "                                      'buffer_overflow': 4,\n",
    "                                      'loadmodule': 4,\n",
    "                                      'perl': 4,\n",
    "                                      'rootkit': 4,\n",
    "                                      'ps': 4,\n",
    "                                      'sqlattack': 4,\n",
    "                                      'xterm': 4})\n",
    "# Replace the 'label' column in the modified training set with the new numerical values\n",
    "newdf_train['label'] = newlabeldf_train\n",
    "\n",
    "# Replace the 'label' column in the modified test set with the new numerical values\n",
    "newdf_test['label'] = newlabeldf_test\n",
    "\n",
    "#print modified label column\n",
    "print(newdf_train['label'].head(10))"
   ]
  },
  {
   "cell_type": "code",
   "execution_count": 24,
   "id": "8bad6b53",
   "metadata": {},
   "outputs": [
    {
     "name": "stdout",
     "output_type": "stream",
     "text": [
      "Train:\n",
      "Dimensions of DoS: (113270, 123)\n",
      "Dimensions of Probe: (78999, 123)\n",
      "Dimensions of R2L: (68338, 123)\n",
      "Dimensions of U2R: (67395, 123)\n",
      "Test:\n",
      "Dimensions of DoS: (17171, 123)\n",
      "Dimensions of Probe: (12132, 123)\n",
      "Dimensions of R2L: (12596, 123)\n",
      "Dimensions of U2R: (9778, 123)\n"
     ]
    }
   ],
   "source": [
    "# Create lists of attack types to drop\n",
    "to_drop_DoS = [2,3,4]\n",
    "to_drop_Probe = [1,3,4]\n",
    "to_drop_R2L = [1,2,4]\n",
    "to_drop_U2R = [1,2,3]\n",
    "\n",
    "# Create separate DataFrames for each attack type in the training set\n",
    "DoS_df_train = newdf_train[~newdf_train['label'].isin(to_drop_DoS)]\n",
    "Probe_df_train = newdf_train[~newdf_train['label'].isin(to_drop_Probe)]\n",
    "R2L_df_train = newdf_train[~newdf_train['label'].isin(to_drop_R2L)]\n",
    "U2R_df_train = newdf_train[~newdf_train['label'].isin(to_drop_U2R)]\n",
    "\n",
    "# Create separate DataFrames for each attack type in the test set\n",
    "DoS_df_test = newdf_test[~newdf_test['label'].isin(to_drop_DoS)]\n",
    "Probe_df_test = newdf_test[~newdf_test['label'].isin(to_drop_Probe)]\n",
    "R2L_df_test = newdf_test[~newdf_test['label'].isin(to_drop_R2L)]\n",
    "U2R_df_test = newdf_test[~newdf_test['label'].isin(to_drop_U2R)]\n",
    "\n",
    "# Print the dimensions of each attack type in the training and test sets\n",
    "print('Train:')\n",
    "print('Dimensions of DoS:', DoS_df_train.shape)\n",
    "print('Dimensions of Probe:', Probe_df_train.shape)\n",
    "print('Dimensions of R2L:', R2L_df_train.shape)\n",
    "print('Dimensions of U2R:', U2R_df_train.shape)\n",
    "print('Test:')\n",
    "print('Dimensions of DoS:', DoS_df_test.shape)\n",
    "print('Dimensions of Probe:', Probe_df_test.shape)\n",
    "print('Dimensions of R2L:', R2L_df_test.shape)\n",
    "print('Dimensions of U2R:', U2R_df_test.shape)"
   ]
  },
  {
   "cell_type": "code",
   "execution_count": 25,
   "id": "6e1d8834",
   "metadata": {},
   "outputs": [
    {
     "name": "stderr",
     "output_type": "stream",
     "text": [
      "C:\\Users\\jag\\AppData\\Local\\Temp\\ipykernel_19104\\3915615785.py:4: FutureWarning: In a future version of pandas all arguments of DataFrame.drop except for the argument 'labels' will be keyword-only.\n",
      "  X_DoS = DoS_df_train.drop('label',1) # drop label column and store all other columns in X_DoS\n",
      "C:\\Users\\jag\\AppData\\Local\\Temp\\ipykernel_19104\\3915615785.py:8: FutureWarning: In a future version of pandas all arguments of DataFrame.drop except for the argument 'labels' will be keyword-only.\n",
      "  X_Probe = Probe_df_train.drop('label',1) # drop label column and store all other columns in X_Probe\n",
      "C:\\Users\\jag\\AppData\\Local\\Temp\\ipykernel_19104\\3915615785.py:12: FutureWarning: In a future version of pandas all arguments of DataFrame.drop except for the argument 'labels' will be keyword-only.\n",
      "  X_R2L = R2L_df_train.drop('label',1) # drop label column and store all other columns in X_R2L\n",
      "C:\\Users\\jag\\AppData\\Local\\Temp\\ipykernel_19104\\3915615785.py:16: FutureWarning: In a future version of pandas all arguments of DataFrame.drop except for the argument 'labels' will be keyword-only.\n",
      "  X_U2R = U2R_df_train.drop('label',1) # drop label column and store all other columns in X_U2R\n",
      "C:\\Users\\jag\\AppData\\Local\\Temp\\ipykernel_19104\\3915615785.py:21: FutureWarning: In a future version of pandas all arguments of DataFrame.drop except for the argument 'labels' will be keyword-only.\n",
      "  X_DoS_test = DoS_df_test.drop('label',1) # drop label column and store all other columns in X_DoS_test\n",
      "C:\\Users\\jag\\AppData\\Local\\Temp\\ipykernel_19104\\3915615785.py:25: FutureWarning: In a future version of pandas all arguments of DataFrame.drop except for the argument 'labels' will be keyword-only.\n",
      "  X_Probe_test = Probe_df_test.drop('label',1) # drop label column and store all other columns in X_Probe_test\n",
      "C:\\Users\\jag\\AppData\\Local\\Temp\\ipykernel_19104\\3915615785.py:29: FutureWarning: In a future version of pandas all arguments of DataFrame.drop except for the argument 'labels' will be keyword-only.\n",
      "  X_R2L_test = R2L_df_test.drop('label',1) # drop label column and store all other columns in X_R2L_test\n",
      "C:\\Users\\jag\\AppData\\Local\\Temp\\ipykernel_19104\\3915615785.py:33: FutureWarning: In a future version of pandas all arguments of DataFrame.drop except for the argument 'labels' will be keyword-only.\n",
      "  X_U2R_test = U2R_df_test.drop('label',1) # drop label column and store all other columns in X_U2R_test\n"
     ]
    }
   ],
   "source": [
    "# Split dataframes into X and Y (X: dataframe of feautures, Y: series of outcome variables\n",
    "\n",
    "# DoS data\n",
    "X_DoS = DoS_df_train.drop('label',1) # drop label column and store all other columns in X_DoS\n",
    "Y_DoS = DoS_df_train.label # store label column in Y_DoS\n",
    "\n",
    "# Probe data\n",
    "X_Probe = Probe_df_train.drop('label',1) # drop label column and store all other columns in X_Probe\n",
    "Y_Probe = Probe_df_train.label # store label column in Y_Probe\n",
    "\n",
    "# R2L data\n",
    "X_R2L = R2L_df_train.drop('label',1) # drop label column and store all other columns in X_R2L\n",
    "Y_R2L = R2L_df_train.label # store label column in Y_R2L\n",
    "\n",
    "# U2R data\n",
    "X_U2R = U2R_df_train.drop('label',1) # drop label column and store all other columns in X_U2R\n",
    "Y_U2R = U2R_df_train.label # store label column in Y_U2R\n",
    "\n",
    "# test set\n",
    "# DoS data\n",
    "X_DoS_test = DoS_df_test.drop('label',1) # drop label column and store all other columns in X_DoS_test\n",
    "Y_DoS_test = DoS_df_test.label # store label column in Y_DoS_test\n",
    "\n",
    "# Probe data\n",
    "X_Probe_test = Probe_df_test.drop('label',1) # drop label column and store all other columns in X_Probe_test\n",
    "Y_Probe_test = Probe_df_test.label # store label column in Y_Probe_test\n",
    "\n",
    "# R2L data\n",
    "X_R2L_test = R2L_df_test.drop('label',1) # drop label column and store all other columns in X_R2L_test\n",
    "Y_R2L_test = R2L_df_test.label # store label column in Y_R2L_test\n",
    "\n",
    "# U2R data\n",
    "X_U2R_test = U2R_df_test.drop('label',1) # drop label column and store all other columns in X_U2R_test\n",
    "Y_U2R_test = U2R_df_test.label # store label column in Y_U2R_test"
   ]
  },
  {
   "cell_type": "code",
   "execution_count": 26,
   "id": "1419d455",
   "metadata": {},
   "outputs": [],
   "source": [
    "colNames=list(X_DoS)\n",
    "colNames_test=list(X_DoS_test)"
   ]
  },
  {
   "cell_type": "code",
   "execution_count": 27,
   "id": "77d9eca7",
   "metadata": {},
   "outputs": [],
   "source": [
    "# Standardization of the feature data\n",
    "\n",
    "# Create StandardScaler objects and fit them to the training data for each category\n",
    "scaler1 = preprocessing.StandardScaler().fit(X_DoS)\n",
    "scaler2 = preprocessing.StandardScaler().fit(X_Probe)\n",
    "scaler3 = preprocessing.StandardScaler().fit(X_R2L)\n",
    "scaler4 = preprocessing.StandardScaler().fit(X_U2R)\n",
    "\n",
    "# Use the StandardScaler objects to transform the training data for each category\n",
    "X_DoS = scaler1.transform(X_DoS) \n",
    "X_Probe = scaler2.transform(X_Probe) \n",
    "X_R2L = scaler3.transform(X_R2L) \n",
    "X_U2R = scaler4.transform(X_U2R) \n",
    "\n",
    "# Repeat the process for the test data\n",
    "scaler5 = preprocessing.StandardScaler().fit(X_DoS_test)\n",
    "scaler6 = preprocessing.StandardScaler().fit(X_Probe_test)\n",
    "scaler7 = preprocessing.StandardScaler().fit(X_R2L_test)\n",
    "scaler8 = preprocessing.StandardScaler().fit(X_U2R_test)\n",
    "\n",
    "# Use the StandardScaler objects to transform the test data for each category\n",
    "X_DoS_test = scaler5.transform(X_DoS_test) \n",
    "X_Probe_test = scaler6.transform(X_Probe_test) \n",
    "X_R2L_test = scaler7.transform(X_R2L_test) \n",
    "X_U2R_test = scaler8.transform(X_U2R_test) "
   ]
  },
  {
   "cell_type": "code",
   "execution_count": 28,
   "id": "a9ce4c99",
   "metadata": {},
   "outputs": [
    {
     "name": "stdout",
     "output_type": "stream",
     "text": [
      "[1. 1. 1. 1. 1. 1. 1. 1. 1. 1. 1. 1. 1. 1. 1. 1. 0. 1. 1. 1. 1. 1. 1. 1.\n",
      " 1. 1. 1. 1. 1. 1. 1. 1. 1. 1. 1. 1. 1. 1. 1. 1. 1. 1. 1. 1. 0. 1. 1. 1.\n",
      " 1. 1. 1. 1. 1. 1. 1. 1. 1. 1. 1. 1. 1. 1. 1. 0. 1. 1. 0. 1. 0. 1. 1. 1.\n",
      " 1. 1. 1. 1. 1. 1. 1. 1. 1. 1. 1. 1. 1. 1. 0. 1. 1. 1. 1. 1. 1. 1. 1. 1.\n",
      " 1. 1. 1. 1. 1. 1. 1. 1. 1. 1. 1. 1. 1. 1. 1. 1. 1. 1. 0. 1. 1. 1. 1. 1.\n",
      " 1. 1.]\n",
      "[1. 1. 1. 1. 0. 1. 1. 1. 1. 1. 1. 1. 1. 1. 1. 1. 0. 1. 1. 1. 1. 1. 1. 1.\n",
      " 1. 1. 1. 1. 1. 1. 1. 1. 1. 1. 1. 1. 1. 1. 1. 1. 1. 1. 1. 1. 1. 1. 1. 1.\n",
      " 1. 1. 1. 1. 1. 1. 1. 1. 1. 1. 1. 1. 1. 1. 1. 1. 1. 1. 1. 1. 1. 1. 1. 1.\n",
      " 1. 1. 1. 1. 1. 1. 1. 1. 1. 1. 1. 1. 1. 1. 1. 1. 1. 1. 1. 1. 1. 1. 1. 1.\n",
      " 1. 1. 1. 1. 1. 1. 1. 1. 1. 1. 1. 1. 1. 1. 1. 1. 1. 1. 1. 1. 1. 1. 1. 1.\n",
      " 1. 1.]\n",
      "[1. 1. 1. 1. 0. 1. 1. 1. 1. 1. 1. 1. 1. 1. 1. 1. 0. 1. 1. 1. 1. 1. 1. 1.\n",
      " 1. 1. 1. 1. 1. 1. 1. 1. 1. 1. 1. 1. 1. 1. 1. 1. 1. 1. 1. 0. 0. 1. 0. 0.\n",
      " 0. 0. 0. 0. 1. 1. 0. 1. 1. 0. 0. 1. 1. 1. 0. 0. 0. 1. 0. 0. 0. 1. 0. 0.\n",
      " 0. 0. 0. 1. 0. 0. 0. 0. 0. 0. 0. 0. 1. 1. 0. 0. 1. 0. 1. 1. 0. 0. 1. 1.\n",
      " 0. 1. 0. 0. 0. 1. 1. 1. 1. 1. 1. 0. 0. 0. 0. 1. 1. 1. 0. 1. 1. 1. 1. 1.\n",
      " 1. 1.]\n",
      "[1. 1. 1. 1. 0. 1. 1. 1. 1. 1. 1. 1. 1. 1. 1. 1. 0. 1. 1. 1. 1. 1. 1. 1.\n",
      " 1. 1. 1. 1. 1. 1. 1. 1. 1. 1. 1. 1. 1. 1. 1. 1. 1. 1. 1. 0. 0. 1. 0. 0.\n",
      " 0. 0. 0. 0. 1. 1. 0. 1. 1. 0. 0. 1. 1. 1. 0. 0. 0. 1. 0. 0. 0. 1. 0. 0.\n",
      " 0. 0. 0. 0. 0. 0. 0. 0. 0. 0. 0. 0. 1. 1. 0. 0. 1. 0. 1. 1. 0. 0. 1. 1.\n",
      " 0. 1. 0. 0. 0. 1. 1. 1. 1. 1. 1. 0. 0. 0. 0. 1. 1. 1. 0. 1. 1. 1. 1. 1.\n",
      " 1. 1.]\n"
     ]
    }
   ],
   "source": [
    "print(X_DoS.std(axis=0))\n",
    "print(X_Probe.std(axis=0));\n",
    "print(X_R2L.std(axis=0));\n",
    "print(X_U2R.std(axis=0));"
   ]
  },
  {
   "cell_type": "code",
   "execution_count": 29,
   "id": "481a35f2",
   "metadata": {},
   "outputs": [
    {
     "name": "stdout",
     "output_type": "stream",
     "text": [
      "['logged_in', 'count', 'serror_rate', 'srv_serror_rate', 'same_srv_rate', 'dst_host_count', 'dst_host_srv_count', 'dst_host_same_srv_rate', 'dst_host_serror_rate', 'dst_host_srv_serror_rate', 'service_http', 'flag_S0', 'flag_SF']\n"
     ]
    },
    {
     "name": "stderr",
     "output_type": "stream",
     "text": [
      "C:\\Users\\jag\\anaconda3\\lib\\site-packages\\sklearn\\feature_selection\\_univariate_selection.py:112: UserWarning: Features [ 16  44  63  66  68  86 114] are constant.\n",
      "  warnings.warn(\"Features %s are constant.\" % constant_features_idx, UserWarning)\n"
     ]
    }
   ],
   "source": [
    "from sklearn.feature_selection import SelectPercentile, f_classif\n",
    "np.seterr(divide='ignore', invalid='ignore')\n",
    "\n",
    "# Select top 10% features using f_classif\n",
    "selector = SelectPercentile(f_classif, percentile=10)\n",
    "X_newDoS = selector.fit_transform(X_DoS, Y_DoS)\n",
    "\n",
    "# Get a list of selected feature indices\n",
    "true = selector.get_support()\n",
    "newcolindex_DoS = [i for i, x in enumerate(true) if x]\n",
    "\n",
    "# Get the list of selected feature names\n",
    "newcolname_DoS = [colNames[i] for i in newcolindex_DoS]\n",
    "print(newcolname_DoS)"
   ]
  },
  {
   "cell_type": "code",
   "execution_count": 30,
   "id": "34d9354d",
   "metadata": {},
   "outputs": [
    {
     "name": "stdout",
     "output_type": "stream",
     "text": [
      "['logged_in', 'rerror_rate', 'srv_rerror_rate', 'dst_host_srv_count', 'dst_host_diff_srv_rate', 'dst_host_same_src_port_rate', 'dst_host_srv_diff_host_rate', 'dst_host_rerror_rate', 'dst_host_srv_rerror_rate', 'Protocol_type_icmp', 'service_eco_i', 'service_private', 'flag_SF']\n"
     ]
    },
    {
     "name": "stderr",
     "output_type": "stream",
     "text": [
      "C:\\Users\\jag\\anaconda3\\lib\\site-packages\\sklearn\\feature_selection\\_univariate_selection.py:112: UserWarning: Features [ 4 16] are constant.\n",
      "  warnings.warn(\"Features %s are constant.\" % constant_features_idx, UserWarning)\n"
     ]
    }
   ],
   "source": [
    "X_newProbe = selector.fit_transform(X_Probe,Y_Probe)\n",
    "\n",
    "# Get a list of selected feature indices\n",
    "true=selector.get_support()\n",
    "newcolindex_Probe=[i for i, x in enumerate(true) if x]\n",
    "\n",
    "# Get the list of selected feature names and print \n",
    "newcolname_Probe=list( colNames[i] for i in newcolindex_Probe )\n",
    "print(newcolname_Probe)\n"
   ]
  },
  {
   "cell_type": "code",
   "execution_count": 31,
   "id": "dc27304d",
   "metadata": {},
   "outputs": [
    {
     "name": "stdout",
     "output_type": "stream",
     "text": [
      "['src_bytes', 'dst_bytes', 'hot', 'num_failed_logins', 'is_guest_login', 'dst_host_srv_count', 'dst_host_same_src_port_rate', 'dst_host_srv_diff_host_rate', 'service_ftp', 'service_ftp_data', 'service_http', 'service_imap4', 'flag_RSTO']\n"
     ]
    },
    {
     "name": "stderr",
     "output_type": "stream",
     "text": [
      "C:\\Users\\jag\\anaconda3\\lib\\site-packages\\sklearn\\feature_selection\\_univariate_selection.py:112: UserWarning: Features [  4  16  43  44  46  47  48  49  50  51  54  57  58  62  63  64  66  67\n",
      "  68  70  71  72  73  74  76  77  78  79  80  81  82  83  86  87  89  92\n",
      "  93  96  98  99 100 107 108 109 110 114] are constant.\n",
      "  warnings.warn(\"Features %s are constant.\" % constant_features_idx, UserWarning)\n"
     ]
    }
   ],
   "source": [
    "X_newR2L = selector.fit_transform(X_R2L,Y_R2L)\n",
    "\n",
    "# Get a list of selected feature indices\n",
    "true=selector.get_support()\n",
    "newcolindex_R2L=[i for i, x in enumerate(true) if x]\n",
    "\n",
    "# Get the list of selected feature names and print\n",
    "newcolname_R2L=list( colNames[i] for i in newcolindex_R2L)\n",
    "print(newcolname_R2L)\n"
   ]
  },
  {
   "cell_type": "code",
   "execution_count": 32,
   "id": "1cc418d3",
   "metadata": {},
   "outputs": [
    {
     "name": "stdout",
     "output_type": "stream",
     "text": [
      "['urgent', 'hot', 'root_shell', 'num_file_creations', 'num_shells', 'srv_diff_host_rate', 'dst_host_count', 'dst_host_srv_count', 'dst_host_same_src_port_rate', 'dst_host_srv_diff_host_rate', 'service_ftp_data', 'service_http', 'service_telnet']\n"
     ]
    },
    {
     "name": "stderr",
     "output_type": "stream",
     "text": [
      "C:\\Users\\jag\\anaconda3\\lib\\site-packages\\sklearn\\feature_selection\\_univariate_selection.py:112: UserWarning: Features [  4  16  43  44  46  47  48  49  50  51  54  57  58  62  63  64  66  67\n",
      "  68  70  71  72  73  74  75  76  77  78  79  80  81  82  83  86  87  89\n",
      "  92  93  96  98  99 100 107 108 109 110 114] are constant.\n",
      "  warnings.warn(\"Features %s are constant.\" % constant_features_idx, UserWarning)\n"
     ]
    }
   ],
   "source": [
    "X_newU2R = selector.fit_transform(X_U2R,Y_U2R)\n",
    "\n",
    "# Get a list of selected feature indices\n",
    "true=selector.get_support()\n",
    "newcolindex_U2R=[i for i, x in enumerate(true) if x]\n",
    "\n",
    "# Get the list of selected feature names and print\n",
    "newcolname_U2R=list( colNames[i] for i in newcolindex_U2R)\n",
    "print(newcolname_U2R)"
   ]
  },
  {
   "cell_type": "code",
   "execution_count": 33,
   "id": "99237492",
   "metadata": {},
   "outputs": [
    {
     "name": "stdout",
     "output_type": "stream",
     "text": [
      "Features selected for DoS: ['logged_in', 'count', 'serror_rate', 'srv_serror_rate', 'same_srv_rate', 'dst_host_count', 'dst_host_srv_count', 'dst_host_same_srv_rate', 'dst_host_serror_rate', 'dst_host_srv_serror_rate', 'service_http', 'flag_S0', 'flag_SF']\n",
      "\n",
      "Features selected for Probe: ['logged_in', 'rerror_rate', 'srv_rerror_rate', 'dst_host_srv_count', 'dst_host_diff_srv_rate', 'dst_host_same_src_port_rate', 'dst_host_srv_diff_host_rate', 'dst_host_rerror_rate', 'dst_host_srv_rerror_rate', 'Protocol_type_icmp', 'service_eco_i', 'service_private', 'flag_SF']\n",
      "\n",
      "Features selected for R2L: ['src_bytes', 'dst_bytes', 'hot', 'num_failed_logins', 'is_guest_login', 'dst_host_srv_count', 'dst_host_same_src_port_rate', 'dst_host_srv_diff_host_rate', 'service_ftp', 'service_ftp_data', 'service_http', 'service_imap4', 'flag_RSTO']\n",
      "\n",
      "Features selected for U2R: ['urgent', 'hot', 'root_shell', 'num_file_creations', 'num_shells', 'srv_diff_host_rate', 'dst_host_count', 'dst_host_srv_count', 'dst_host_same_src_port_rate', 'dst_host_srv_diff_host_rate', 'service_ftp_data', 'service_http', 'service_telnet']\n"
     ]
    }
   ],
   "source": [
    "#print features\n",
    "\n",
    "print('Features selected for DoS:',newcolname_DoS)\n",
    "print()\n",
    "\n",
    "print('Features selected for Probe:',newcolname_Probe)\n",
    "print()\n",
    "\n",
    "print('Features selected for R2L:',newcolname_R2L)\n",
    "print()\n",
    "\n",
    "print('Features selected for U2R:',newcolname_U2R)"
   ]
  },
  {
   "cell_type": "code",
   "execution_count": 34,
   "id": "da9872f1",
   "metadata": {
    "scrolled": false
   },
   "outputs": [
    {
     "name": "stdout",
     "output_type": "stream",
     "text": [
      "DoS Features sorted by their rank:\n",
      "[(1, 'flag_S0'), (2, 'count'), (3, 'dst_host_srv_count'), (4, 'dst_host_same_srv_rate'), (5, 'dst_host_count'), (6, 'flag_SF'), (7, 'service_http'), (8, 'dst_host_srv_serror_rate'), (9, 'same_srv_rate'), (10, 'logged_in'), (11, 'dst_host_serror_rate'), (12, 'srv_serror_rate'), (13, 'serror_rate')]\n",
      "\n",
      "Probe Features sorted by their rank:\n",
      "[(1, 'dst_host_diff_srv_rate'), (2, 'service_eco_i'), (3, 'service_private'), (4, 'flag_SF'), (5, 'dst_host_srv_count'), (6, 'dst_host_same_src_port_rate'), (7, 'Protocol_type_icmp'), (8, 'rerror_rate'), (9, 'srv_rerror_rate'), (10, 'dst_host_srv_diff_host_rate'), (11, 'logged_in'), (12, 'dst_host_rerror_rate'), (13, 'dst_host_srv_rerror_rate')]\n",
      "\n",
      "R2L Features sorted by their rank:\n",
      "[(1, 'service_http'), (2, 'dst_host_same_src_port_rate'), (3, 'service_ftp_data'), (4, 'is_guest_login'), (5, 'flag_RSTO'), (6, 'service_ftp'), (7, 'hot'), (8, 'dst_host_srv_diff_host_rate'), (9, 'num_failed_logins'), (10, 'service_imap4'), (11, 'src_bytes'), (12, 'dst_bytes'), (13, 'dst_host_srv_count')]\n",
      "\n",
      "U2R Features sorted by their rank:\n",
      "[(1, 'dst_host_srv_count'), (2, 'dst_host_count'), (3, 'service_http'), (4, 'srv_diff_host_rate'), (5, 'dst_host_same_src_port_rate'), (6, 'service_telnet'), (7, 'service_ftp_data'), (8, 'dst_host_srv_diff_host_rate'), (9, 'root_shell'), (10, 'hot'), (11, 'num_shells'), (12, 'num_file_creations'), (13, 'urgent')]\n",
      "\n"
     ]
    }
   ],
   "source": [
    "# Import the necessary libraries\n",
    "from sklearn.feature_selection import RFE\n",
    "from sklearn.linear_model import LogisticRegression\n",
    "\n",
    "# Create a logistic regression classifier\n",
    "clf = LogisticRegression(random_state=0, max_iter=1000)\n",
    "\n",
    "# Create an RFE object with the classifier and the desired number of features\n",
    "rfe = RFE(clf, n_features_to_select=1)\n",
    "\n",
    "# Fit the RFE object to the DoS data\n",
    "rfe.fit(X_newDoS, Y_DoS)\n",
    "print(\"DoS Features sorted by their rank:\")\n",
    "print(sorted(zip(map(lambda x: round(x, 4), rfe.ranking_), newcolname_DoS)))\n",
    "print()\n",
    "\n",
    "# Fit the RFE object to the Probe data\n",
    "rfe.fit(X_newProbe, Y_Probe)\n",
    "print(\"Probe Features sorted by their rank:\")\n",
    "print(sorted(zip(map(lambda x: round(x, 4), rfe.ranking_), newcolname_Probe)))\n",
    "print()\n",
    "\n",
    "# Fit the RFE object to the R2L data\n",
    "rfe.fit(X_newR2L, Y_R2L)\n",
    "print(\"R2L Features sorted by their rank:\")\n",
    "print(sorted(zip(map(lambda x: round(x, 4), rfe.ranking_), newcolname_R2L)))\n",
    "print()\n",
    "\n",
    "# Fit the RFE object to the U2R data\n",
    "rfe.fit(X_newU2R, Y_U2R)\n",
    "print(\"U2R Features sorted by their rank:\")\n",
    "print(sorted(zip(map(lambda x: round(x, 4), rfe.ranking_), newcolname_U2R)))\n",
    "print()\n"
   ]
  },
  {
   "cell_type": "code",
   "execution_count": 35,
   "id": "6548ef6f",
   "metadata": {},
   "outputs": [
    {
     "name": "stdout",
     "output_type": "stream",
     "text": [
      "Features selected for DoS: ['duration', 'wrong_fragment', 'hot', 'num_file_creations', 'is_guest_login', 'count', 'srv_count', 'Protocol_type_udp', 'service_private', 'flag_S0']\n",
      "\n",
      "Features selected for Probe: ['logged_in', 'count', 'rerror_rate', 'dst_host_count', 'dst_host_same_srv_rate', 'dst_host_same_src_port_rate', 'dst_host_rerror_rate', 'service_eco_i', 'service_http', 'service_private']\n",
      "\n",
      "Features selected for R2L: ['count', 'dst_host_count', 'dst_host_srv_count', 'dst_host_same_srv_rate', 'Protocol_type_tcp', 'Protocol_type_udp', 'service_finger', 'service_http', 'service_smtp', 'flag_REJ']\n",
      "\n",
      "Features selected for U2R: ['duration', 'hot', 'is_guest_login', 'dst_host_srv_count', 'dst_host_same_srv_rate', 'dst_host_serror_rate', 'service_ftp', 'service_ftp_data', 'service_other', 'service_telnet']\n"
     ]
    }
   ],
   "source": [
    "# Create a logistic regression classifier\n",
    "clf = LogisticRegression(random_state=0, max_iter=1000)\n",
    "\n",
    "# Create an RFE object with the classifier, the desired number of features, and a step of 1\n",
    "rfe = RFE(estimator=clf, n_features_to_select=10, step=1)\n",
    "\n",
    "# Fit the RFE object to the DoS data and transform it\n",
    "rfe.fit(X_DoS, Y_DoS)\n",
    "X_rfeDoS = rfe.transform(X_DoS)\n",
    "\n",
    "# Get the support (True/False values indicating which features were selected)\n",
    "true = rfe.support_\n",
    "\n",
    "# Get the column indices of the selected features\n",
    "rfecolindex_DoS = [i for i, x in enumerate(true) if x]\n",
    "\n",
    "# Get the names of the selected features\n",
    "rfecolname_DoS = [colNames[i] for i in rfecolindex_DoS]\n",
    "\n",
    "# Repeat the process for the Probe data\n",
    "rfe.fit(X_Probe, Y_Probe)\n",
    "X_rfeProbe = rfe.transform(X_Probe)\n",
    "true = rfe.support_\n",
    "rfecolindex_Probe = [i for i, x in enumerate(true) if x]\n",
    "rfecolname_Probe = [colNames[i] for i in rfecolindex_Probe]\n",
    "\n",
    "# Repeat the process for the R2L data\n",
    "rfe.fit(X_R2L, Y_R2L)\n",
    "X_rfeR2L = rfe.transform(X_R2L)\n",
    "true = rfe.support_\n",
    "rfecolindex_R2L = [i for i, x in enumerate(true) if x]\n",
    "rfecolname_R2L = [colNames[i] for i in rfecolindex_R2L]\n",
    "\n",
    "# Repeat the process for the U2R data\n",
    "rfe.fit(X_U2R, Y_U2R)\n",
    "X_rfeU2R = rfe.transform(X_U2R)\n",
    "true = rfe.support_\n",
    "rfecolindex_U2R = [i for i, x in enumerate(true) if x]\n",
    "rfecolname_U2R = [colNames[i] for i in rfecolindex_U2R]\n",
    "\n",
    "# Use the selected features in further analysis or modeling\n",
    "# For example, you can train a new logistic regression model with the selected features\n",
    "\n",
    "# Print the selected feature names for each data set\n",
    "print('Features selected for DoS:', rfecolname_DoS)\n",
    "print()\n",
    "print('Features selected for Probe:', rfecolname_Probe)\n",
    "print()\n",
    "print('Features selected for R2L:', rfecolname_R2L)\n",
    "print()\n",
    "print('Features selected for U2R:', rfecolname_U2R)\n"
   ]
  },
  {
   "cell_type": "code",
   "execution_count": 36,
   "id": "5e6bceac",
   "metadata": {},
   "outputs": [
    {
     "name": "stdout",
     "output_type": "stream",
     "text": [
      "(113270, 10)\n",
      "(78999, 10)\n",
      "(68338, 10)\n",
      "(67395, 10)\n"
     ]
    }
   ],
   "source": [
    "# Print the shape of the transformed DoS, Probe, R2L and U2R data\n",
    "print(X_rfeDoS.shape)\n",
    "print(X_rfeProbe.shape)\n",
    "print(X_rfeR2L.shape)\n",
    "print(X_rfeU2R.shape)"
   ]
  },
  {
   "cell_type": "code",
   "execution_count": 37,
   "id": "a53cd69d",
   "metadata": {
    "scrolled": true
   },
   "outputs": [
    {
     "data": {
      "text/html": [
       "<style>#sk-container-id-1 {color: black;background-color: white;}#sk-container-id-1 pre{padding: 0;}#sk-container-id-1 div.sk-toggleable {background-color: white;}#sk-container-id-1 label.sk-toggleable__label {cursor: pointer;display: block;width: 100%;margin-bottom: 0;padding: 0.3em;box-sizing: border-box;text-align: center;}#sk-container-id-1 label.sk-toggleable__label-arrow:before {content: \"▸\";float: left;margin-right: 0.25em;color: #696969;}#sk-container-id-1 label.sk-toggleable__label-arrow:hover:before {color: black;}#sk-container-id-1 div.sk-estimator:hover label.sk-toggleable__label-arrow:before {color: black;}#sk-container-id-1 div.sk-toggleable__content {max-height: 0;max-width: 0;overflow: hidden;text-align: left;background-color: #f0f8ff;}#sk-container-id-1 div.sk-toggleable__content pre {margin: 0.2em;color: black;border-radius: 0.25em;background-color: #f0f8ff;}#sk-container-id-1 input.sk-toggleable__control:checked~div.sk-toggleable__content {max-height: 200px;max-width: 100%;overflow: auto;}#sk-container-id-1 input.sk-toggleable__control:checked~label.sk-toggleable__label-arrow:before {content: \"▾\";}#sk-container-id-1 div.sk-estimator input.sk-toggleable__control:checked~label.sk-toggleable__label {background-color: #d4ebff;}#sk-container-id-1 div.sk-label input.sk-toggleable__control:checked~label.sk-toggleable__label {background-color: #d4ebff;}#sk-container-id-1 input.sk-hidden--visually {border: 0;clip: rect(1px 1px 1px 1px);clip: rect(1px, 1px, 1px, 1px);height: 1px;margin: -1px;overflow: hidden;padding: 0;position: absolute;width: 1px;}#sk-container-id-1 div.sk-estimator {font-family: monospace;background-color: #f0f8ff;border: 1px dotted black;border-radius: 0.25em;box-sizing: border-box;margin-bottom: 0.5em;}#sk-container-id-1 div.sk-estimator:hover {background-color: #d4ebff;}#sk-container-id-1 div.sk-parallel-item::after {content: \"\";width: 100%;border-bottom: 1px solid gray;flex-grow: 1;}#sk-container-id-1 div.sk-label:hover label.sk-toggleable__label {background-color: #d4ebff;}#sk-container-id-1 div.sk-serial::before {content: \"\";position: absolute;border-left: 1px solid gray;box-sizing: border-box;top: 0;bottom: 0;left: 50%;z-index: 0;}#sk-container-id-1 div.sk-serial {display: flex;flex-direction: column;align-items: center;background-color: white;padding-right: 0.2em;padding-left: 0.2em;position: relative;}#sk-container-id-1 div.sk-item {position: relative;z-index: 1;}#sk-container-id-1 div.sk-parallel {display: flex;align-items: stretch;justify-content: center;background-color: white;position: relative;}#sk-container-id-1 div.sk-item::before, #sk-container-id-1 div.sk-parallel-item::before {content: \"\";position: absolute;border-left: 1px solid gray;box-sizing: border-box;top: 0;bottom: 0;left: 50%;z-index: -1;}#sk-container-id-1 div.sk-parallel-item {display: flex;flex-direction: column;z-index: 1;position: relative;background-color: white;}#sk-container-id-1 div.sk-parallel-item:first-child::after {align-self: flex-end;width: 50%;}#sk-container-id-1 div.sk-parallel-item:last-child::after {align-self: flex-start;width: 50%;}#sk-container-id-1 div.sk-parallel-item:only-child::after {width: 0;}#sk-container-id-1 div.sk-dashed-wrapped {border: 1px dashed gray;margin: 0 0.4em 0.5em 0.4em;box-sizing: border-box;padding-bottom: 0.4em;background-color: white;}#sk-container-id-1 div.sk-label label {font-family: monospace;font-weight: bold;display: inline-block;line-height: 1.2em;}#sk-container-id-1 div.sk-label-container {text-align: center;}#sk-container-id-1 div.sk-container {/* jupyter's `normalize.less` sets `[hidden] { display: none; }` but bootstrap.min.css set `[hidden] { display: none !important; }` so we also need the `!important` here to be able to override the default hidden behavior on the sphinx rendered scikit-learn.org. See: https://github.com/scikit-learn/scikit-learn/issues/21755 */display: inline-block !important;position: relative;}#sk-container-id-1 div.sk-text-repr-fallback {display: none;}</style><div id=\"sk-container-id-1\" class=\"sk-top-container\"><div class=\"sk-text-repr-fallback\"><pre>LogisticRegression(max_iter=1000, random_state=0)</pre><b>In a Jupyter environment, please rerun this cell to show the HTML representation or trust the notebook. <br />On GitHub, the HTML representation is unable to render, please try loading this page with nbviewer.org.</b></div><div class=\"sk-container\" hidden><div class=\"sk-item\"><div class=\"sk-estimator sk-toggleable\"><input class=\"sk-toggleable__control sk-hidden--visually\" id=\"sk-estimator-id-1\" type=\"checkbox\" checked><label for=\"sk-estimator-id-1\" class=\"sk-toggleable__label sk-toggleable__label-arrow\">LogisticRegression</label><div class=\"sk-toggleable__content\"><pre>LogisticRegression(max_iter=1000, random_state=0)</pre></div></div></div></div></div>"
      ],
      "text/plain": [
       "LogisticRegression(max_iter=1000, random_state=0)"
      ]
     },
     "execution_count": 37,
     "metadata": {},
     "output_type": "execute_result"
    }
   ],
   "source": [
    "# Create a Logistic Regression classifier for the DoS data\n",
    "clf_DoS = LogisticRegression(random_state=0, max_iter=1000)\n",
    "\n",
    "# Create a Logistic Regression classifier for the Probe data\n",
    "clf_Probe = LogisticRegression(random_state=0, max_iter=1000)\n",
    "\n",
    "# Create a Logistic Regression classifier for the R2L data\n",
    "clf_R2L = LogisticRegression(random_state=0, max_iter=1000)\n",
    "\n",
    "# Create a Logistic Regression classifier for the U2R data\n",
    "clf_U2R = LogisticRegression(random_state=0, max_iter=1000)\n",
    "\n",
    "# Fit the classifiers to their respective data sets\n",
    "clf_DoS.fit(X_DoS, Y_DoS)\n",
    "clf_Probe.fit(X_Probe, Y_Probe)\n",
    "clf_R2L.fit(X_R2L, Y_R2L)\n",
    "clf_U2R.fit(X_U2R, Y_U2R)\n",
    "\n",
    "# Create a Logistic Regression classifier for the RFE-transformed DoS data\n",
    "clf_rfeDoS = LogisticRegression(random_state=0, max_iter=1000)\n",
    "\n",
    "# Create a Logistic Regression classifier for the RFE-transformed Probe data\n",
    "clf_rfeProbe = LogisticRegression(random_state=0, max_iter=1000)\n",
    "\n",
    "# Create a Logistic Regression classifier for the RFE-transformed R2L data\n",
    "clf_rfeR2L = LogisticRegression(random_state=0, max_iter=1000)\n",
    "\n",
    "# Create a Logistic Regression classifier for the RFE-transformed U2R data\n",
    "clf_rfeU2R = LogisticRegression(random_state=0, max_iter=1000)\n",
    "\n",
    "# Fit the RFE-transformed data to their respective classifiers\n",
    "clf_rfeDoS.fit(X_rfeDoS, Y_DoS)\n",
    "clf_rfeProbe.fit(X_rfeProbe, Y_Probe)\n",
    "clf_rfeR2L.fit(X_rfeR2L, Y_R2L)\n",
    "clf_rfeU2R.fit(X_rfeU2R, Y_U2R)\n"
   ]
  },
  {
   "cell_type": "code",
   "execution_count": 38,
   "id": "2921a232",
   "metadata": {},
   "outputs": [
    {
     "data": {
      "text/plain": [
       "array([1, 1, 0, ..., 0, 1, 0], dtype=int64)"
      ]
     },
     "execution_count": 38,
     "metadata": {},
     "output_type": "execute_result"
    }
   ],
   "source": [
    "# Predict on the test set using the DoS classifier\n",
    "clf_DoS.predict(X_DoS_test)"
   ]
  },
  {
   "cell_type": "code",
   "execution_count": 39,
   "id": "e0d45d52",
   "metadata": {},
   "outputs": [
    {
     "data": {
      "text/plain": [
       "array([0, 2, 2, ..., 0, 0, 0], dtype=int64)"
      ]
     },
     "execution_count": 39,
     "metadata": {},
     "output_type": "execute_result"
    }
   ],
   "source": [
    "# Predict on the test set using the Probe classifier\n",
    "clf_Probe.predict(X_Probe_test)"
   ]
  },
  {
   "cell_type": "code",
   "execution_count": 40,
   "id": "00397161",
   "metadata": {},
   "outputs": [
    {
     "data": {
      "text/plain": [
       "array([0, 0, 0, ..., 0, 0, 0], dtype=int64)"
      ]
     },
     "execution_count": 40,
     "metadata": {},
     "output_type": "execute_result"
    }
   ],
   "source": [
    "# Predict on the test set using the R2L classifier\n",
    "clf_R2L.predict(X_R2L_test)"
   ]
  },
  {
   "cell_type": "code",
   "execution_count": 41,
   "id": "a1a83072",
   "metadata": {},
   "outputs": [
    {
     "data": {
      "text/plain": [
       "array([0, 0, 0, ..., 0, 0, 0], dtype=int64)"
      ]
     },
     "execution_count": 41,
     "metadata": {},
     "output_type": "execute_result"
    }
   ],
   "source": [
    "# Predict on the test set using the U2R classifier\n",
    "clf_U2R.predict(X_U2R_test)"
   ]
  },
  {
   "cell_type": "code",
   "execution_count": 42,
   "id": "c1d4eb72",
   "metadata": {
    "scrolled": true
   },
   "outputs": [
    {
     "name": "stdout",
     "output_type": "stream",
     "text": [
      "[[3.53387989e-04 9.99646612e-01]\n",
      " [5.82282345e-04 9.99417718e-01]\n",
      " [9.99396322e-01 6.03678130e-04]\n",
      " [9.94373466e-01 5.62653379e-03]\n",
      " [2.84373233e-01 7.15626767e-01]\n",
      " [9.85603683e-01 1.43963167e-02]\n",
      " [1.51551393e-01 8.48448607e-01]\n",
      " [6.95695967e-04 9.99304304e-01]\n",
      " [2.65000558e-06 9.99997350e-01]\n",
      " [9.99202683e-01 7.97317378e-04]]\n"
     ]
    }
   ],
   "source": [
    "# Get the predicted probabilities for the first 5 samples in the DoS test set\n",
    "predicted_probs = clf_DoS.predict_proba(X_DoS_test)[0:10]\n",
    "\n",
    "# Output the predicted probabilities\n",
    "print(predicted_probs)"
   ]
  },
  {
   "cell_type": "code",
   "execution_count": 43,
   "id": "2fbc0f20",
   "metadata": {},
   "outputs": [
    {
     "name": "stdout",
     "output_type": "stream",
     "text": [
      "[[9.96149894e-01 3.85010581e-03]\n",
      " [8.35875924e-02 9.16412408e-01]\n",
      " [4.25209016e-01 5.74790984e-01]\n",
      " [9.99999996e-01 4.29014311e-09]\n",
      " [1.85417555e-02 9.81458244e-01]\n",
      " [9.99999995e-01 5.43137269e-09]\n",
      " [9.99926474e-01 7.35256154e-05]\n",
      " [5.20364911e-01 4.79635089e-01]\n",
      " [9.99998352e-01 1.64772484e-06]\n",
      " [9.99999989e-01 1.14179386e-08]]\n"
     ]
    }
   ],
   "source": [
    "# Get the predicted probabilities for the first 5 samples in the Probe test set\n",
    "predicted_probs = clf_Probe.predict_proba(X_Probe_test)[0:10]\n",
    "\n",
    "# Output the predicted probabilities\n",
    "print(predicted_probs)"
   ]
  },
  {
   "cell_type": "code",
   "execution_count": 44,
   "id": "ca7e36c6",
   "metadata": {},
   "outputs": [
    {
     "name": "stdout",
     "output_type": "stream",
     "text": [
      "[[9.99999910e-01 8.99358727e-08]\n",
      " [9.99999400e-01 6.00449201e-07]\n",
      " [9.99999936e-01 6.43151790e-08]\n",
      " [9.99996650e-01 3.34981910e-06]\n",
      " [9.99999974e-01 2.63733853e-08]\n",
      " [9.99999256e-01 7.44249554e-07]\n",
      " [9.99999289e-01 7.10822965e-07]\n",
      " [9.99999997e-01 3.16808635e-09]\n",
      " [9.99999914e-01 8.59166711e-08]\n",
      " [9.99999522e-01 4.78408639e-07]]\n"
     ]
    }
   ],
   "source": [
    "# Get the predicted probabilities for the first 5 samples in the R2L test set\n",
    "predicted_probs = clf_R2L.predict_proba(X_R2L_test)[0:10]\n",
    "\n",
    "# Output the predicted probabilities\n",
    "print(predicted_probs)"
   ]
  },
  {
   "cell_type": "code",
   "execution_count": 45,
   "id": "6b426159",
   "metadata": {},
   "outputs": [
    {
     "name": "stdout",
     "output_type": "stream",
     "text": [
      "[[9.98728721e-01 1.27127878e-03]\n",
      " [9.99993810e-01 6.18951644e-06]\n",
      " [9.99999409e-01 5.90878961e-07]\n",
      " [9.99995450e-01 4.54991763e-06]\n",
      " [9.99999390e-01 6.09969468e-07]\n",
      " [1.00000000e+00 4.54950648e-13]\n",
      " [9.99995042e-01 4.95782156e-06]\n",
      " [9.99988266e-01 1.17342432e-05]\n",
      " [9.99996420e-01 3.57955954e-06]\n",
      " [9.99999977e-01 2.28920594e-08]]\n"
     ]
    }
   ],
   "source": [
    "# Get the predicted probabilities for the first 5 samples in the U2R test set\n",
    "predicted_probs = clf_U2R.predict_proba(X_U2R_test)[0:10]\n",
    "\n",
    "# Output the predicted probabilities\n",
    "print(predicted_probs)"
   ]
  },
  {
   "cell_type": "code",
   "execution_count": 46,
   "id": "6d38d059",
   "metadata": {
    "scrolled": true
   },
   "outputs": [
    {
     "name": "stdout",
     "output_type": "stream",
     "text": [
      "DoS - Decision Tree\n",
      "Predicted attacks     0     1\n",
      "Actual attacks               \n",
      "0                  9170   541\n",
      "1                  1150  6310\n"
     ]
    }
   ],
   "source": [
    "# Make predictions on the DoS test set\n",
    "predictions = clf_DoS.predict(X_DoS_test)\n",
    "\n",
    "# Create a confusion matrix using the actual and predicted attack labels\n",
    "confusion_matrix = pd.crosstab(Y_DoS_test, predictions, rownames=['Actual attacks'], colnames=['Predicted attacks'])\n",
    "\n",
    "# Output the confusion matrix\n",
    "print(\"DoS - Decision Tree\")\n",
    "print(confusion_matrix)"
   ]
  },
  {
   "cell_type": "code",
   "execution_count": 47,
   "id": "f614c407",
   "metadata": {},
   "outputs": [
    {
     "name": "stdout",
     "output_type": "stream",
     "text": [
      "Probe - Decision Tree\n",
      "Predicted attacks     0     2\n",
      "Actual attacks               \n",
      "0                  9560   151\n",
      "2                  1415  1006\n"
     ]
    }
   ],
   "source": [
    "# Make predictions on the Probe test set\n",
    "predictions = clf_Probe.predict(X_Probe_test)\n",
    "\n",
    "# Create a confusion matrix using the actual and predicted attack labels\n",
    "confusion_matrix = pd.crosstab(Y_Probe_test, predictions, rownames=['Actual attacks'], colnames=['Predicted attacks'])\n",
    "\n",
    "# Output the confusion matrix\n",
    "print(\"Probe - Decision Tree\")\n",
    "print(confusion_matrix)"
   ]
  },
  {
   "cell_type": "code",
   "execution_count": 48,
   "id": "0389a0ce",
   "metadata": {},
   "outputs": [
    {
     "name": "stdout",
     "output_type": "stream",
     "text": [
      "R2L - Decision Tree\n",
      "Predicted attacks     0   3\n",
      "Actual attacks             \n",
      "0                  9654  57\n",
      "3                  2794  91\n"
     ]
    }
   ],
   "source": [
    "# Make predictions on the R2L test set\n",
    "predictions = clf_R2L.predict(X_R2L_test)\n",
    "\n",
    "# Create a confusion matrix using the actual and predicted attack labels\n",
    "confusion_matrix = pd.crosstab(Y_R2L_test, predictions, rownames=['Actual attacks'], colnames=['Predicted attacks'])\n",
    "\n",
    "# Output the confusion matrix\n",
    "print(\"R2L - Decision Tree\")\n",
    "print(confusion_matrix)"
   ]
  },
  {
   "cell_type": "code",
   "execution_count": 49,
   "id": "e17caa1a",
   "metadata": {},
   "outputs": [
    {
     "name": "stdout",
     "output_type": "stream",
     "text": [
      "U2R - Decision Tree\n",
      "Predicted attacks     0  4\n",
      "Actual attacks            \n",
      "0                  9710  1\n",
      "4                    67  0\n"
     ]
    }
   ],
   "source": [
    "# Make predictions on the U2R test set\n",
    "predictions = clf_U2R.predict(X_U2R_test)\n",
    "\n",
    "# Create a confusion matrix using the actual and predicted attack labels\n",
    "confusion_matrix = pd.crosstab(Y_U2R_test, predictions, rownames=['Actual attacks'], colnames=['Predicted attacks'])\n",
    "\n",
    "# Output the confusion matrix\n",
    "print(\"U2R - Decision Tree\")\n",
    "print(confusion_matrix)"
   ]
  },
  {
   "cell_type": "code",
   "execution_count": 61,
   "id": "505a70af",
   "metadata": {},
   "outputs": [
    {
     "data": {
      "text/plain": [
       "array([[9170,  541],\n",
       "       [1150, 6310]], dtype=int64)"
      ]
     },
     "execution_count": 61,
     "metadata": {},
     "output_type": "execute_result"
    }
   ],
   "source": [
    "from sklearn.metrics import confusion_matrix\n",
    "from sklearn.model_selection import cross_val_score\n",
    "from sklearn import metrics\n",
    "\n",
    "Y_DoS_pred=clf_DoS.predict(X_DoS_test)\n",
    "\n",
    "confusion_matrix(Y_DoS_test,Y_DoS_pred)\n",
    "\n",
    "#plot_confusion_matrix(clf_DoS, X_DoS_test, Y_DoS_test, cmap=plt.cm.Blues)\n",
    "#plt.show()\n"
   ]
  },
  {
   "cell_type": "code",
   "execution_count": 53,
   "id": "9a57f487",
   "metadata": {},
   "outputs": [
    {
     "data": {
      "text/plain": [
       "array([[9560,  151],\n",
       "       [1415, 1006]], dtype=int64)"
      ]
     },
     "execution_count": 53,
     "metadata": {},
     "output_type": "execute_result"
    }
   ],
   "source": [
    "Y_Probe_pred=clf_Probe.predict(X_Probe_test)\n",
    "\n",
    "confusion_matrix(Y_Probe_test,Y_Probe_pred)\n",
    "\n",
    "#plot_confusion_matrix(clf_Probe, X_Probe_test, Y_Probe_test, cmap=plt.cm.Blues)\n",
    "#plt.show()\n"
   ]
  },
  {
   "cell_type": "code",
   "execution_count": 54,
   "id": "a5903da9",
   "metadata": {},
   "outputs": [
    {
     "data": {
      "text/plain": [
       "array([[9654,   57],\n",
       "       [2794,   91]], dtype=int64)"
      ]
     },
     "execution_count": 54,
     "metadata": {},
     "output_type": "execute_result"
    }
   ],
   "source": [
    "Y_R2L_pred=clf_R2L.predict(X_R2L_test)\n",
    "\n",
    "confusion_matrix(Y_R2L_test,Y_R2L_pred)\n",
    "\n",
    "#plot_confusion_matrix(clf_R2L, X_R2L_test, Y_R2L_test, cmap=plt.cm.Blues)\n",
    "#plt.show()\n"
   ]
  },
  {
   "cell_type": "code",
   "execution_count": 55,
   "id": "3445af20",
   "metadata": {},
   "outputs": [
    {
     "data": {
      "text/plain": [
       "array([[9710,    1],\n",
       "       [  67,    0]], dtype=int64)"
      ]
     },
     "execution_count": 55,
     "metadata": {},
     "output_type": "execute_result"
    }
   ],
   "source": [
    "Y_U2R_pred=clf_U2R.predict(X_U2R_test)\n",
    "\n",
    "confusion_matrix(Y_U2R_test,Y_U2R_pred)\n",
    "\n",
    "#plot_confusion_matrix(clf_U2R, X_U2R_test, Y_U2R_test, cmap=plt.cm.Blues)\n",
    "#plt.show()\n"
   ]
  },
  {
   "cell_type": "code",
   "execution_count": 56,
   "id": "95e36b9f",
   "metadata": {},
   "outputs": [
    {
     "name": "stdout",
     "output_type": "stream",
     "text": [
      "DoS Shape:  (17171, 10)\n",
      "Probe Shape:  (12132, 10)\n",
      "R2L Shape:  (12596, 10)\n",
      "U2R Shape:  (9778, 10)\n"
     ]
    }
   ],
   "source": [
    "# Get the 13 most important features for each attack type\n",
    "X_DoS_test2 = X_DoS_test[:, rfecolindex_DoS]\n",
    "X_Probe_test2 = X_Probe_test[:, rfecolindex_Probe]\n",
    "X_R2L_test2 = X_R2L_test[:, rfecolindex_R2L]\n",
    "X_U2R_test2 = X_U2R_test[:, rfecolindex_U2R]\n",
    "\n",
    "# Print the shape of the reduced test sets\n",
    "print(\"DoS Shape: \",X_DoS_test2.shape)\n",
    "print(\"Probe Shape: \",X_Probe_test2.shape)\n",
    "print(\"R2L Shape: \",X_R2L_test2.shape)\n",
    "print(\"U2R Shape: \",X_U2R_test2.shape)"
   ]
  },
  {
   "cell_type": "code",
   "execution_count": 62,
   "id": "7940844d",
   "metadata": {},
   "outputs": [
    {
     "name": "stdout",
     "output_type": "stream",
     "text": [
      "DoS Accuracy: 0.99400 (+/- 0.00346)\n",
      "DoS Precision: 0.99107 (+/- 0.00659)\n",
      "DoS Recall: 0.99517 (+/- 0.00322)\n",
      "DoS F-measure: 0.99311 (+/- 0.00396)\n"
     ]
    }
   ],
   "source": [
    "from sklearn.model_selection import cross_val_score\n",
    "\n",
    "# Compute the accuracy of the classifier using 10-fold cross-validation\n",
    "accuracy = cross_val_score(clf_DoS, X_DoS_test, Y_DoS_test, cv=10, scoring='accuracy')\n",
    "\n",
    "# Print the mean and standard deviation of the accuracy scores\n",
    "print(\"DoS Accuracy: %0.5f (+/- %0.5f)\" % (accuracy.mean(), accuracy.std() * 2))\n",
    "\n",
    "# Compute the precision of the classifier using 10-fold cross-validation\n",
    "precision = cross_val_score(clf_DoS, X_DoS_test, Y_DoS_test, cv=10, scoring='precision')\n",
    "\n",
    "# Print the mean and standard deviation of the precision scores\n",
    "print(\"DoS Precision: %0.5f (+/- %0.5f)\" % (precision.mean(), precision.std() * 2))\n",
    "\n",
    "# Compute the recall of the classifier using 10-fold cross-validation\n",
    "recall = cross_val_score(clf_DoS, X_DoS_test, Y_DoS_test, cv=10, scoring='recall')\n",
    "\n",
    "# Print the mean and standard deviation of the recall scores\n",
    "print(\"DoS Recall: %0.5f (+/- %0.5f)\" % (recall.mean(), recall.std() * 2))\n",
    "\n",
    "# Compute the F1 measure of the classifier using 10-fold cross-validation\n",
    "f = cross_val_score(clf_DoS, X_DoS_test, Y_DoS_test, cv=10, scoring='f1')\n",
    "\n",
    "# Print the mean and standard deviation of the F1 scores\n",
    "print(\"DoS F-measure: %0.5f (+/- %0.5f)\" % (f.mean(), f.std() * 2))"
   ]
  },
  {
   "cell_type": "code",
   "execution_count": 63,
   "id": "0b9fc0aa",
   "metadata": {},
   "outputs": [
    {
     "name": "stdout",
     "output_type": "stream",
     "text": [
      "Probe Accuracy: 0.98384 (+/- 0.00502)\n",
      "Probe Precision: 0.97049 (+/- 0.01029)\n",
      "Probe Recall: 0.97967 (+/- 0.00853)\n",
      "Probe F-measure: 0.97497 (+/- 0.00772)\n"
     ]
    }
   ],
   "source": [
    "from sklearn.model_selection import cross_val_score\n",
    "\n",
    "# Compute the accuracy of the classifier using 10-fold cross-validation and print\n",
    "accuracy = cross_val_score(clf_Probe, X_Probe_test, Y_Probe_test, cv=10, scoring='accuracy')\n",
    "print(\"Probe Accuracy: %0.5f (+/- %0.5f)\" % (accuracy.mean(), accuracy.std() * 2))\n",
    "\n",
    "# Compute the precision of the classifier using 10-fold cross-validation and print\n",
    "precision = cross_val_score(clf_Probe, X_Probe_test, Y_Probe_test, cv=10, scoring='precision_macro')\n",
    "print(\"Probe Precision: %0.5f (+/- %0.5f)\" % (precision.mean(), precision.std() * 2))\n",
    "\n",
    "# Compute the recall of the classifier using 10-fold cross-validation and print\n",
    "recall = cross_val_score(clf_Probe, X_Probe_test, Y_Probe_test, cv=10, scoring='recall_macro')\n",
    "print(\"Probe Recall: %0.5f (+/- %0.5f)\" % (recall.mean(), recall.std() * 2))\n",
    "\n",
    "# Compute the F1 measure of the classifier using 10-fold cross-validation and print\n",
    "f = cross_val_score(clf_Probe, X_Probe_test, Y_Probe_test, cv=10, scoring='f1_macro')\n",
    "print(\"Probe F-measure: %0.5f (+/- %0.5f)\" % (f.mean(), f.std() * 2))"
   ]
  },
  {
   "cell_type": "code",
   "execution_count": 64,
   "id": "35924140",
   "metadata": {},
   "outputs": [
    {
     "name": "stdout",
     "output_type": "stream",
     "text": [
      "R2L Accuracy: 0.96570 (+/- 0.00860)\n",
      "R2L Precision: 0.94470 (+/- 0.01354)\n",
      "R2L Recall: 0.96071 (+/- 0.01274)\n",
      "R2L F-measure: 0.95232 (+/- 0.01181)\n"
     ]
    }
   ],
   "source": [
    "from sklearn.model_selection import cross_val_score\n",
    "\n",
    "# Compute the accuracy of the classifier using 10-fold cross-validation and print\n",
    "accuracy = cross_val_score(clf_R2L, X_R2L_test, Y_R2L_test, cv=10, scoring='accuracy')\n",
    "print(\"R2L Accuracy: %0.5f (+/- %0.5f)\" % (accuracy.mean(), accuracy.std() * 2))\n",
    "\n",
    "# Compute the precision of the classifier using 10-fold cross-validation and print\n",
    "precision = cross_val_score(clf_R2L, X_R2L_test, Y_R2L_test, cv=10, scoring='precision_macro')\n",
    "print(\"R2L Precision: %0.5f (+/- %0.5f)\" % (precision.mean(), precision.std() * 2))\n",
    "\n",
    "# Compute the recall of the classifier using 10-fold cross-validation and print\n",
    "recall = cross_val_score(clf_R2L, X_R2L_test, Y_R2L_test, cv=10, scoring='recall_macro')\n",
    "print(\"R2L Recall: %0.5f (+/- %0.5f)\" % (recall.mean(), recall.std() * 2))\n",
    "\n",
    "# Compute the F1 measure of the classifier using 10-fold cross-validation and print\n",
    "f = cross_val_score(clf_R2L, X_R2L_test, Y_R2L_test, cv=10, scoring='f1_macro')\n",
    "print(\"R2L F-measure: %0.5f (+/- %0.5f)\" % (f.mean(), f.std() * 2))"
   ]
  },
  {
   "cell_type": "code",
   "execution_count": 82,
   "id": "d854538a",
   "metadata": {},
   "outputs": [
    {
     "name": "stdout",
     "output_type": "stream",
     "text": [
      "U2R Accuracy: 0.99683 (+/- 0.00323)\n",
      "U2R Precision: 0.93066 (+/- 0.13425)\n",
      "U2R Recall: 0.83763 (+/- 0.20931)\n",
      "U2R F-measure: 0.86486 (+/- 0.15179)\n"
     ]
    }
   ],
   "source": [
    "from sklearn.model_selection import cross_val_score\n",
    "\n",
    "# Compute the accuracy of the classifier using 10-fold cross-validation and print\n",
    "accuracy = cross_val_score(clf_U2R, X_U2R_test, Y_U2R_test, cv=10, scoring='accuracy')\n",
    "print(\"U2R Accuracy: %0.5f (+/- %0.5f)\" % (accuracy.mean(), accuracy.std() * 2))\n",
    "\n",
    "# Compute the precision of the classifier using 10-fold cross-validation and print\n",
    "precision = cross_val_score(clf_U2R, X_U2R_test, Y_U2R_test, cv=10, scoring='precision_macro')\n",
    "print(\"U2R Precision: %0.5f (+/- %0.5f)\" % (precision.mean(), precision.std() * 2))\n",
    "\n",
    "# Compute the recall of the classifier using 10-fold cross-validation and print\n",
    "recall = cross_val_score(clf_U2R, X_U2R_test, Y_U2R_test, cv=10, scoring='recall_macro')\n",
    "print(\"U2R Recall: %0.5f (+/- %0.5f)\" % (recall.mean(), recall.std() * 2))\n",
    "\n",
    "# Compute the F1 measure of the classifier using 10-fold cross-validation and print\n",
    "f = cross_val_score(clf_U2R, X_U2R_test, Y_U2R_test, cv=10, scoring='f1_macro')\n",
    "print(\"U2R F-measure: %0.5f (+/- %0.5f)\" % (f.mean(), f.std() * 2))"
   ]
  },
  {
   "cell_type": "code",
   "execution_count": null,
   "id": "f70a2941",
   "metadata": {},
   "outputs": [],
   "source": []
  },
  {
   "cell_type": "code",
   "execution_count": 83,
   "id": "d90db02f",
   "metadata": {},
   "outputs": [
    {
     "data": {
      "text/html": [
       "<style>#sk-container-id-5 {color: black;background-color: white;}#sk-container-id-5 pre{padding: 0;}#sk-container-id-5 div.sk-toggleable {background-color: white;}#sk-container-id-5 label.sk-toggleable__label {cursor: pointer;display: block;width: 100%;margin-bottom: 0;padding: 0.3em;box-sizing: border-box;text-align: center;}#sk-container-id-5 label.sk-toggleable__label-arrow:before {content: \"▸\";float: left;margin-right: 0.25em;color: #696969;}#sk-container-id-5 label.sk-toggleable__label-arrow:hover:before {color: black;}#sk-container-id-5 div.sk-estimator:hover label.sk-toggleable__label-arrow:before {color: black;}#sk-container-id-5 div.sk-toggleable__content {max-height: 0;max-width: 0;overflow: hidden;text-align: left;background-color: #f0f8ff;}#sk-container-id-5 div.sk-toggleable__content pre {margin: 0.2em;color: black;border-radius: 0.25em;background-color: #f0f8ff;}#sk-container-id-5 input.sk-toggleable__control:checked~div.sk-toggleable__content {max-height: 200px;max-width: 100%;overflow: auto;}#sk-container-id-5 input.sk-toggleable__control:checked~label.sk-toggleable__label-arrow:before {content: \"▾\";}#sk-container-id-5 div.sk-estimator input.sk-toggleable__control:checked~label.sk-toggleable__label {background-color: #d4ebff;}#sk-container-id-5 div.sk-label input.sk-toggleable__control:checked~label.sk-toggleable__label {background-color: #d4ebff;}#sk-container-id-5 input.sk-hidden--visually {border: 0;clip: rect(1px 1px 1px 1px);clip: rect(1px, 1px, 1px, 1px);height: 1px;margin: -1px;overflow: hidden;padding: 0;position: absolute;width: 1px;}#sk-container-id-5 div.sk-estimator {font-family: monospace;background-color: #f0f8ff;border: 1px dotted black;border-radius: 0.25em;box-sizing: border-box;margin-bottom: 0.5em;}#sk-container-id-5 div.sk-estimator:hover {background-color: #d4ebff;}#sk-container-id-5 div.sk-parallel-item::after {content: \"\";width: 100%;border-bottom: 1px solid gray;flex-grow: 1;}#sk-container-id-5 div.sk-label:hover label.sk-toggleable__label {background-color: #d4ebff;}#sk-container-id-5 div.sk-serial::before {content: \"\";position: absolute;border-left: 1px solid gray;box-sizing: border-box;top: 0;bottom: 0;left: 50%;z-index: 0;}#sk-container-id-5 div.sk-serial {display: flex;flex-direction: column;align-items: center;background-color: white;padding-right: 0.2em;padding-left: 0.2em;position: relative;}#sk-container-id-5 div.sk-item {position: relative;z-index: 1;}#sk-container-id-5 div.sk-parallel {display: flex;align-items: stretch;justify-content: center;background-color: white;position: relative;}#sk-container-id-5 div.sk-item::before, #sk-container-id-5 div.sk-parallel-item::before {content: \"\";position: absolute;border-left: 1px solid gray;box-sizing: border-box;top: 0;bottom: 0;left: 50%;z-index: -1;}#sk-container-id-5 div.sk-parallel-item {display: flex;flex-direction: column;z-index: 1;position: relative;background-color: white;}#sk-container-id-5 div.sk-parallel-item:first-child::after {align-self: flex-end;width: 50%;}#sk-container-id-5 div.sk-parallel-item:last-child::after {align-self: flex-start;width: 50%;}#sk-container-id-5 div.sk-parallel-item:only-child::after {width: 0;}#sk-container-id-5 div.sk-dashed-wrapped {border: 1px dashed gray;margin: 0 0.4em 0.5em 0.4em;box-sizing: border-box;padding-bottom: 0.4em;background-color: white;}#sk-container-id-5 div.sk-label label {font-family: monospace;font-weight: bold;display: inline-block;line-height: 1.2em;}#sk-container-id-5 div.sk-label-container {text-align: center;}#sk-container-id-5 div.sk-container {/* jupyter's `normalize.less` sets `[hidden] { display: none; }` but bootstrap.min.css set `[hidden] { display: none !important; }` so we also need the `!important` here to be able to override the default hidden behavior on the sphinx rendered scikit-learn.org. See: https://github.com/scikit-learn/scikit-learn/issues/21755 */display: inline-block !important;position: relative;}#sk-container-id-5 div.sk-text-repr-fallback {display: none;}</style><div id=\"sk-container-id-5\" class=\"sk-top-container\"><div class=\"sk-text-repr-fallback\"><pre>LogisticRegression(max_iter=1000)</pre><b>In a Jupyter environment, please rerun this cell to show the HTML representation or trust the notebook. <br />On GitHub, the HTML representation is unable to render, please try loading this page with nbviewer.org.</b></div><div class=\"sk-container\" hidden><div class=\"sk-item\"><div class=\"sk-estimator sk-toggleable\"><input class=\"sk-toggleable__control sk-hidden--visually\" id=\"sk-estimator-id-5\" type=\"checkbox\" checked><label for=\"sk-estimator-id-5\" class=\"sk-toggleable__label sk-toggleable__label-arrow\">LogisticRegression</label><div class=\"sk-toggleable__content\"><pre>LogisticRegression(max_iter=1000)</pre></div></div></div></div></div>"
      ],
      "text/plain": [
       "LogisticRegression(max_iter=1000)"
      ]
     },
     "execution_count": 83,
     "metadata": {},
     "output_type": "execute_result"
    }
   ],
   "source": [
    "import shap\n",
    "from sklearn import ensemble\n",
    "\n",
    "regressor = LogisticRegression(max_iter=1000)\n",
    "regressor.fit(X_DoS, Y_DoS)"
   ]
  },
  {
   "cell_type": "code",
   "execution_count": 86,
   "id": "bc9dc81d",
   "metadata": {},
   "outputs": [
    {
     "data": {
      "image/png": "[encoded data removed]",
      "text/plain": [
       "<Figure size 800x950 with 1 Axes>"
      ]
     },
     "metadata": {},
     "output_type": "display_data"
    }
   ],
   "source": [
    "background = X_DoS[:100]\n",
    "# Create object that can calculate shap values\n",
    "explainer = shap.Explainer(regressor, background)\n",
    "\n",
    "# Calculate Shap values\n",
    "shap_values = explainer(X_DoS)\n",
    "\n",
    "shap.summary_plot(shap_values, X_DoS, feature_names=DoS_df_train.columns, plot_type=\"bar\")"
   ]
  },
  {
   "cell_type": "code",
   "execution_count": 87,
   "id": "86a525b4",
   "metadata": {},
   "outputs": [
    {
     "data": {
      "image/png": "[encoded data removed]",
      "text/plain": [
       "<Figure size 800x950 with 1 Axes>"
      ]
     },
     "metadata": {},
     "output_type": "display_data"
    }
   ],
   "source": [
    "regressor = LogisticRegression(max_iter=1000)\n",
    "regressor.fit(X_Probe, Y_Probe)\n",
    "\n",
    "# Create object that can calculate shap values\n",
    "explainer2 = shap.Explainer(regressor, background)\n",
    "# Calculate Shap values\n",
    "shap_values2 = explainer(X_Probe)\n",
    "\n",
    "shap.summary_plot(shap_values2, X_Probe, feature_names=Probe_df_train.columns, plot_type=\"bar\")"
   ]
  },
  {
   "cell_type": "code",
   "execution_count": 88,
   "id": "6f8a768b",
   "metadata": {},
   "outputs": [
    {
     "data": {
      "image/png": "[encoded data removed]",
      "text/plain": [
       "<Figure size 800x950 with 1 Axes>"
      ]
     },
     "metadata": {},
     "output_type": "display_data"
    }
   ],
   "source": [
    "regressor = LogisticRegression(max_iter=1000)\n",
    "regressor.fit(X_R2L, Y_R2L)\n",
    "\n",
    "# Create object that can calculate shap values\n",
    "explainer3 = shap.Explainer(regressor, background)\n",
    "# Calculate Shap values\n",
    "shap_values3 = explainer(X_R2L)\n",
    "\n",
    "shap.summary_plot(shap_values3, X_R2L, feature_names=R2L_df_train.columns, plot_type=\"bar\")\n",
    "\n"
   ]
  },
  {
   "cell_type": "code",
   "execution_count": 89,
   "id": "56bf78d5",
   "metadata": {
    "scrolled": false
   },
   "outputs": [
    {
     "data": {
      "image/png": "[encoded data removed]",
      "text/plain": [
       "<Figure size 800x950 with 1 Axes>"
      ]
     },
     "metadata": {},
     "output_type": "display_data"
    }
   ],
   "source": [
    "regressor = LogisticRegression(max_iter=1000)\n",
    "regressor.fit(X_U2R, Y_U2R)\n",
    "\n",
    "# variable for Shap values\n",
    "explainer4 = shap.Explainer(regressor, background)\n",
    "# Calculate Shap values\n",
    "shap_values4 = explainer(X_U2R)\n",
    "\n",
    "#shap.summary_plot(shap_values4, X_U2R, feature_names=U2R_df_train.columns, plot_type=\"violin\")\n",
    "shap.summary_plot(shap_values4, X_U2R, feature_names=U2R_df_train.columns, plot_type=\"bar\")"
   ]
  },
  {
   "cell_type": "code",
   "execution_count": 90,
   "id": "bfe5c9a8",
   "metadata": {},
   "outputs": [
    {
     "name": "stdout",
     "output_type": "stream",
     "text": [
      "X_DoS: (113270, 122)\n",
      "Dos train: (113270, 123)\n",
      "DoS test: (17171, 123)\n",
      "Probe train: (78999, 123)\n"
     ]
    }
   ],
   "source": [
    "print(\"X_DoS:\", X_DoS.shape)#does not include label column \n",
    "print(\"Dos train:\", DoS_df_train.shape)\n",
    "print(\"DoS test:\", DoS_df_test.shape)\n",
    "print(\"Probe train:\", Probe_df_train.shape)"
   ]
  },
  {
   "cell_type": "code",
   "execution_count": null,
   "id": "4d70a060",
   "metadata": {},
   "outputs": [],
   "source": []
  },
  {
   "cell_type": "code",
   "execution_count": null,
   "id": "bc9eb2b8",
   "metadata": {},
   "outputs": [],
   "source": []
  },
  {
   "cell_type": "code",
   "execution_count": null,
   "id": "d75f02ea",
   "metadata": {},
   "outputs": [],
   "source": []
  }
 ],
 "metadata": {
  "kernelspec": {
   "display_name": "Python 3 (ipykernel)",
   "language": "python",
   "name": "python3"
  },
  "language_info": {
   "codemirror_mode": {
    "name": "ipython",
    "version": 3
   },
   "file_extension": ".py",
   "mimetype": "text/x-python",
   "name": "python",
   "nbconvert_exporter": "python",
   "pygments_lexer": "ipython3",
   "version": "3.10.9"
  }
 },
 "nbformat": 4,
 "nbformat_minor": 5
}
